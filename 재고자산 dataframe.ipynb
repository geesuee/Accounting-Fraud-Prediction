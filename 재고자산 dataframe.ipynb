{
 "cells": [
  {
   "cell_type": "code",
   "execution_count": 1,
   "metadata": {},
   "outputs": [],
   "source": [
    "import pandas as pd"
   ]
  },
  {
   "cell_type": "code",
   "execution_count": 8,
   "metadata": {},
   "outputs": [],
   "source": [
    "재고자산1 = pd.read_excel('./비금융계_재고자산.xls', skiprows=[0,1,2,3,4])"
   ]
  },
  {
   "cell_type": "code",
   "execution_count": 9,
   "metadata": {},
   "outputs": [
    {
     "data": {
      "text/plain": [
       "array(['(주)메타바이오메드', '(주)코라', '(주)이건홀딩스', ..., '(주)에스엘씨', '농업회사법인한국양계(주)',\n",
       "       '(주)우림공업사'], dtype=object)"
      ]
     },
     "execution_count": 9,
     "metadata": {},
     "output_type": "execute_result"
    }
   ],
   "source": [
    "재고자산1['Unnamed: 2'].drop(0).values"
   ]
  },
  {
   "cell_type": "code",
   "execution_count": 10,
   "metadata": {},
   "outputs": [],
   "source": [
    "재고자산1.set_index('Unnamed: 2', inplace=True)"
   ]
  },
  {
   "cell_type": "code",
   "execution_count": 11,
   "metadata": {},
   "outputs": [
    {
     "data": {
      "text/html": [
       "<div>\n",
       "<style scoped>\n",
       "    .dataframe tbody tr th:only-of-type {\n",
       "        vertical-align: middle;\n",
       "    }\n",
       "\n",
       "    .dataframe tbody tr th {\n",
       "        vertical-align: top;\n",
       "    }\n",
       "\n",
       "    .dataframe thead th {\n",
       "        text-align: right;\n",
       "    }\n",
       "</style>\n",
       "<table border=\"1\" class=\"dataframe\">\n",
       "  <thead>\n",
       "    <tr style=\"text-align: right;\">\n",
       "      <th></th>\n",
       "      <th>Unnamed: 0</th>\n",
       "      <th>Unnamed: 1</th>\n",
       "      <th>2014/Annual</th>\n",
       "      <th>2015/Annual</th>\n",
       "      <th>2016/Annual</th>\n",
       "      <th>2017/Annual</th>\n",
       "      <th>2018/Annual</th>\n",
       "      <th>2019/Annual</th>\n",
       "    </tr>\n",
       "    <tr>\n",
       "      <th>Unnamed: 2</th>\n",
       "      <th></th>\n",
       "      <th></th>\n",
       "      <th></th>\n",
       "      <th></th>\n",
       "      <th></th>\n",
       "      <th></th>\n",
       "      <th></th>\n",
       "      <th></th>\n",
       "    </tr>\n",
       "  </thead>\n",
       "  <tbody>\n",
       "    <tr>\n",
       "      <th>Name</th>\n",
       "      <td>KIS</td>\n",
       "      <td>Stock</td>\n",
       "      <td>재고자산(계)/111400</td>\n",
       "      <td>재고자산(계)/111400</td>\n",
       "      <td>재고자산(계)/111400</td>\n",
       "      <td>재고자산(계)/111400</td>\n",
       "      <td>재고자산(계)/111400</td>\n",
       "      <td>재고자산(계)/111400</td>\n",
       "    </tr>\n",
       "    <tr>\n",
       "      <th>(주)메타바이오메드</th>\n",
       "      <td>000292</td>\n",
       "      <td>059210</td>\n",
       "      <td>5335104000</td>\n",
       "      <td>9553544000</td>\n",
       "      <td>8363747000</td>\n",
       "      <td>7271977000</td>\n",
       "      <td>8060082000</td>\n",
       "      <td>9324707000</td>\n",
       "    </tr>\n",
       "    <tr>\n",
       "      <th>(주)코라</th>\n",
       "      <td>000366</td>\n",
       "      <td>NaN</td>\n",
       "      <td>108410000</td>\n",
       "      <td>174808000</td>\n",
       "      <td>116941000</td>\n",
       "      <td>114055000</td>\n",
       "      <td>82568000</td>\n",
       "      <td>81704000</td>\n",
       "    </tr>\n",
       "    <tr>\n",
       "      <th>(주)이건홀딩스</th>\n",
       "      <td>000442</td>\n",
       "      <td>039020</td>\n",
       "      <td>10365505000</td>\n",
       "      <td>9576133000</td>\n",
       "      <td>10978431000</td>\n",
       "      <td>NaN</td>\n",
       "      <td>NaN</td>\n",
       "      <td>NaN</td>\n",
       "    </tr>\n",
       "    <tr>\n",
       "      <th>동성인쇄(주)</th>\n",
       "      <td>000469</td>\n",
       "      <td>NaN</td>\n",
       "      <td>1993422000</td>\n",
       "      <td>2701604000</td>\n",
       "      <td>3112618000</td>\n",
       "      <td>1786576000</td>\n",
       "      <td>2134645000</td>\n",
       "      <td>1134609000</td>\n",
       "    </tr>\n",
       "  </tbody>\n",
       "</table>\n",
       "</div>"
      ],
      "text/plain": [
       "           Unnamed: 0 Unnamed: 1     2014/Annual     2015/Annual  \\\n",
       "Unnamed: 2                                                         \n",
       "Name              KIS      Stock  재고자산(계)/111400  재고자산(계)/111400   \n",
       "(주)메타바이오메드     000292     059210      5335104000      9553544000   \n",
       "(주)코라          000366        NaN       108410000       174808000   \n",
       "(주)이건홀딩스       000442     039020     10365505000      9576133000   \n",
       "동성인쇄(주)        000469        NaN      1993422000      2701604000   \n",
       "\n",
       "               2016/Annual     2017/Annual     2018/Annual     2019/Annual  \n",
       "Unnamed: 2                                                                  \n",
       "Name        재고자산(계)/111400  재고자산(계)/111400  재고자산(계)/111400  재고자산(계)/111400  \n",
       "(주)메타바이오메드      8363747000      7271977000      8060082000      9324707000  \n",
       "(주)코라            116941000       114055000        82568000        81704000  \n",
       "(주)이건홀딩스       10978431000             NaN             NaN             NaN  \n",
       "동성인쇄(주)         3112618000      1786576000      2134645000      1134609000  "
      ]
     },
     "execution_count": 11,
     "metadata": {},
     "output_type": "execute_result"
    }
   ],
   "source": [
    "재고자산1.head()"
   ]
  },
  {
   "cell_type": "code",
   "execution_count": 12,
   "metadata": {},
   "outputs": [
    {
     "name": "stdout",
     "output_type": "stream",
     "text": [
      "<class 'pandas.core.frame.DataFrame'>\n",
      "Index: 32324 entries, Name to (주)우림공업사\n",
      "Data columns (total 8 columns):\n",
      " #   Column       Non-Null Count  Dtype \n",
      "---  ------       --------------  ----- \n",
      " 0   Unnamed: 0   32324 non-null  object\n",
      " 1   Unnamed: 1   2601 non-null   object\n",
      " 2   2014/Annual  18990 non-null  object\n",
      " 3   2015/Annual  19983 non-null  object\n",
      " 4   2016/Annual  21010 non-null  object\n",
      " 5   2017/Annual  21951 non-null  object\n",
      " 6   2018/Annual  22617 non-null  object\n",
      " 7   2019/Annual  22424 non-null  object\n",
      "dtypes: object(8)\n",
      "memory usage: 2.2+ MB\n"
     ]
    }
   ],
   "source": [
    "재고자산1.info()"
   ]
  },
  {
   "cell_type": "code",
   "execution_count": 13,
   "metadata": {},
   "outputs": [
    {
     "data": {
      "text/plain": [
       "Index(['Unnamed: 0', 'Unnamed: 1', '2014/Annual', '2015/Annual', '2016/Annual',\n",
       "       '2017/Annual', '2018/Annual', '2019/Annual'],\n",
       "      dtype='object')"
      ]
     },
     "execution_count": 13,
     "metadata": {},
     "output_type": "execute_result"
    }
   ],
   "source": [
    "재고자산1.columns"
   ]
  },
  {
   "cell_type": "code",
   "execution_count": 15,
   "metadata": {},
   "outputs": [
    {
     "data": {
      "text/html": [
       "<div>\n",
       "<style scoped>\n",
       "    .dataframe tbody tr th:only-of-type {\n",
       "        vertical-align: middle;\n",
       "    }\n",
       "\n",
       "    .dataframe tbody tr th {\n",
       "        vertical-align: top;\n",
       "    }\n",
       "\n",
       "    .dataframe thead th {\n",
       "        text-align: right;\n",
       "    }\n",
       "</style>\n",
       "<table border=\"1\" class=\"dataframe\">\n",
       "  <thead>\n",
       "    <tr style=\"text-align: right;\">\n",
       "      <th></th>\n",
       "      <th>Unnamed: 2</th>\n",
       "      <th>level_1</th>\n",
       "      <th>재고자산</th>\n",
       "    </tr>\n",
       "  </thead>\n",
       "  <tbody>\n",
       "    <tr>\n",
       "      <th>0</th>\n",
       "      <td>(주)메타바이오메드</td>\n",
       "      <td>2014/Annual</td>\n",
       "      <td>5335104000</td>\n",
       "    </tr>\n",
       "    <tr>\n",
       "      <th>1</th>\n",
       "      <td>(주)메타바이오메드</td>\n",
       "      <td>2015/Annual</td>\n",
       "      <td>9553544000</td>\n",
       "    </tr>\n",
       "    <tr>\n",
       "      <th>2</th>\n",
       "      <td>(주)메타바이오메드</td>\n",
       "      <td>2016/Annual</td>\n",
       "      <td>8363747000</td>\n",
       "    </tr>\n",
       "    <tr>\n",
       "      <th>3</th>\n",
       "      <td>(주)메타바이오메드</td>\n",
       "      <td>2017/Annual</td>\n",
       "      <td>7271977000</td>\n",
       "    </tr>\n",
       "    <tr>\n",
       "      <th>4</th>\n",
       "      <td>(주)메타바이오메드</td>\n",
       "      <td>2018/Annual</td>\n",
       "      <td>8060082000</td>\n",
       "    </tr>\n",
       "    <tr>\n",
       "      <th>...</th>\n",
       "      <td>...</td>\n",
       "      <td>...</td>\n",
       "      <td>...</td>\n",
       "    </tr>\n",
       "    <tr>\n",
       "      <th>193933</th>\n",
       "      <td>(주)우림공업사</td>\n",
       "      <td>2015/Annual</td>\n",
       "      <td>138503000</td>\n",
       "    </tr>\n",
       "    <tr>\n",
       "      <th>193934</th>\n",
       "      <td>(주)우림공업사</td>\n",
       "      <td>2016/Annual</td>\n",
       "      <td>45698000</td>\n",
       "    </tr>\n",
       "    <tr>\n",
       "      <th>193935</th>\n",
       "      <td>(주)우림공업사</td>\n",
       "      <td>2017/Annual</td>\n",
       "      <td>NaN</td>\n",
       "    </tr>\n",
       "    <tr>\n",
       "      <th>193936</th>\n",
       "      <td>(주)우림공업사</td>\n",
       "      <td>2018/Annual</td>\n",
       "      <td>576528000</td>\n",
       "    </tr>\n",
       "    <tr>\n",
       "      <th>193937</th>\n",
       "      <td>(주)우림공업사</td>\n",
       "      <td>2019/Annual</td>\n",
       "      <td>272214000</td>\n",
       "    </tr>\n",
       "  </tbody>\n",
       "</table>\n",
       "<p>193938 rows × 3 columns</p>\n",
       "</div>"
      ],
      "text/plain": [
       "        Unnamed: 2      level_1        재고자산\n",
       "0       (주)메타바이오메드  2014/Annual  5335104000\n",
       "1       (주)메타바이오메드  2015/Annual  9553544000\n",
       "2       (주)메타바이오메드  2016/Annual  8363747000\n",
       "3       (주)메타바이오메드  2017/Annual  7271977000\n",
       "4       (주)메타바이오메드  2018/Annual  8060082000\n",
       "...            ...          ...         ...\n",
       "193933    (주)우림공업사  2015/Annual   138503000\n",
       "193934    (주)우림공업사  2016/Annual    45698000\n",
       "193935    (주)우림공업사  2017/Annual         NaN\n",
       "193936    (주)우림공업사  2018/Annual   576528000\n",
       "193937    (주)우림공업사  2019/Annual   272214000\n",
       "\n",
       "[193938 rows x 3 columns]"
      ]
     },
     "execution_count": 15,
     "metadata": {},
     "output_type": "execute_result"
    }
   ],
   "source": [
    "재고자산 = 재고자산1[['2014/Annual', '2015/Annual', '2016/Annual',\n",
    "                      '2017/Annual', '2018/Annual', '2019/Annual']]\n",
    "재고자산 = pd.DataFrame(재고자산.drop('Name').stack(dropna=False))\n",
    "재고자산.columns=['재고자산']\n",
    "재고자산.reset_index(inplace=True)\n",
    "재고자산"
   ]
  }
 ],
 "metadata": {
  "kernelspec": {
   "display_name": "Python 3",
   "language": "python",
   "name": "python3"
  },
  "language_info": {
   "codemirror_mode": {
    "name": "ipython",
    "version": 3
   },
   "file_extension": ".py",
   "mimetype": "text/x-python",
   "name": "python",
   "nbconvert_exporter": "python",
   "pygments_lexer": "ipython3",
   "version": "3.7.6"
  }
 },
 "nbformat": 4,
 "nbformat_minor": 4
}
