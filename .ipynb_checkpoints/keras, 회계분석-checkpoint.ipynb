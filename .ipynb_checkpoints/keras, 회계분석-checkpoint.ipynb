{
 "cells": [
  {
   "cell_type": "code",
   "execution_count": 1,
   "metadata": {},
   "outputs": [
    {
     "name": "stderr",
     "output_type": "stream",
     "text": [
      "Using TensorFlow backend.\n"
     ]
    }
   ],
   "source": [
    "import keras"
   ]
  },
  {
   "cell_type": "code",
   "execution_count": null,
   "metadata": {},
   "outputs": [],
   "source": [
    "model.compile(loss='binary_crossentropy', optimizer=\"adam\", metrics=['accuracy'])"
   ]
  },
  {
   "cell_type": "code",
   "execution_count": null,
   "metadata": {},
   "outputs": [],
   "source": [
    "model.summary()"
   ]
  },
  {
   "cell_type": "code",
   "execution_count": null,
   "metadata": {},
   "outputs": [],
   "source": [
    "model.fit(X_train, y_train, epochs=100, batch_size=10, verbose=2)"
   ]
  },
  {
   "cell_type": "code",
   "execution_count": null,
   "metadata": {},
   "outputs": [],
   "source": [
    "hist = model.fit(X_train, y_train, epochs=100, batch_size=10, verbose=2)"
   ]
  },
  {
   "cell_type": "code",
   "execution_count": null,
   "metadata": {},
   "outputs": [],
   "source": [
    "hist.history['accuracy']"
   ]
  },
  {
   "cell_type": "code",
   "execution_count": null,
   "metadata": {},
   "outputs": [],
   "source": [
    "hist.history['loss']"
   ]
  },
  {
   "cell_type": "code",
   "execution_count": null,
   "metadata": {},
   "outputs": [],
   "source": [
    "loss, acc = model.evaluate(X_test, y_test)"
   ]
  },
  {
   "cell_type": "code",
   "execution_count": null,
   "metadata": {},
   "outputs": [],
   "source": [
    "print(\"손실값:\", round(loss, 3))\n",
    "print(\"정확도:\", round(acc, 3))"
   ]
  },
  {
   "cell_type": "code",
   "execution_count": null,
   "metadata": {},
   "outputs": [],
   "source": [
    "y_pred = model.predict(X_new)\n",
    "y_pred_class = model.predict_classes(X_new)"
   ]
  },
  {
   "cell_type": "markdown",
   "metadata": {},
   "source": [
    "## 위에는 수업코드\n",
    "## 아래는 구글 검색코드"
   ]
  },
  {
   "cell_type": "markdown",
   "metadata": {},
   "source": [
    "# 설정"
   ]
  },
  {
   "cell_type": "code",
   "execution_count": 132,
   "metadata": {},
   "outputs": [],
   "source": [
    "import tensorflow as tf\n",
    "from tensorflow import keras\n",
    "\n",
    "import os\n",
    "import tempfile\n",
    "\n",
    "import matplotlib as mpl\n",
    "import matplotlib.pyplot as plt\n",
    "import numpy as np\n",
    "import pandas as pd\n",
    "import seaborn as sns\n",
    "\n",
    "import sklearn\n",
    "from sklearn.metrics import confusion_matrix\n",
    "from sklearn.model_selection import train_test_split\n",
    "from sklearn.preprocessing import StandardScaler\n",
    "from sklearn.preprocessing import RobustScaler\n",
    "from sklearn.preprocessing import PowerTransformer"
   ]
  },
  {
   "cell_type": "code",
   "execution_count": 7,
   "metadata": {},
   "outputs": [],
   "source": [
    "mpl.rcParams['figure.figsize'] = (12, 10)\n",
    "colors = plt.rcParams['axes.prop_cycle'].by_key()['color']"
   ]
  },
  {
   "cell_type": "markdown",
   "metadata": {},
   "source": [
    "# 데이터 처리 및 탐색"
   ]
  },
  {
   "cell_type": "code",
   "execution_count": 209,
   "metadata": {
    "collapsed": true
   },
   "outputs": [
    {
     "data": {
      "text/html": [
       "<div>\n",
       "<style scoped>\n",
       "    .dataframe tbody tr th:only-of-type {\n",
       "        vertical-align: middle;\n",
       "    }\n",
       "\n",
       "    .dataframe tbody tr th {\n",
       "        vertical-align: top;\n",
       "    }\n",
       "\n",
       "    .dataframe thead th {\n",
       "        text-align: right;\n",
       "    }\n",
       "</style>\n",
       "<table border=\"1\" class=\"dataframe\">\n",
       "  <thead>\n",
       "    <tr style=\"text-align: right;\">\n",
       "      <th></th>\n",
       "      <th>Unnamed: 0</th>\n",
       "      <th>매출채권회전율변동</th>\n",
       "      <th>재고자산회전율변동</th>\n",
       "      <th>대손충당금율변동</th>\n",
       "      <th>유동비율</th>\n",
       "      <th>유동비율변동</th>\n",
       "      <th>부채비율</th>\n",
       "      <th>부채비율변동</th>\n",
       "      <th>영업활동현금흐름이자보상비율</th>\n",
       "      <th>금융비용_매출액비율</th>\n",
       "      <th>...</th>\n",
       "      <th>총종차</th>\n",
       "      <th>매종차</th>\n",
       "      <th>오류수정및회계정책변경여부</th>\n",
       "      <th>자산총계</th>\n",
       "      <th>비상장</th>\n",
       "      <th>상장</th>\n",
       "      <th>상장관리</th>\n",
       "      <th>빅4여부</th>\n",
       "      <th>감사법인변동여부</th>\n",
       "      <th>비적정여부</th>\n",
       "    </tr>\n",
       "  </thead>\n",
       "  <tbody>\n",
       "    <tr>\n",
       "      <th>0</th>\n",
       "      <td>0</td>\n",
       "      <td>-0.706949</td>\n",
       "      <td>2.679380</td>\n",
       "      <td>3.859332</td>\n",
       "      <td>110.07</td>\n",
       "      <td>0.718051</td>\n",
       "      <td>391.98</td>\n",
       "      <td>2.635691</td>\n",
       "      <td>84.83</td>\n",
       "      <td>0.06</td>\n",
       "      <td>...</td>\n",
       "      <td>191.56</td>\n",
       "      <td>16.66</td>\n",
       "      <td>0</td>\n",
       "      <td>23.759990</td>\n",
       "      <td>1</td>\n",
       "      <td>0</td>\n",
       "      <td>0</td>\n",
       "      <td>0</td>\n",
       "      <td>1</td>\n",
       "      <td>1</td>\n",
       "    </tr>\n",
       "    <tr>\n",
       "      <th>1</th>\n",
       "      <td>1</td>\n",
       "      <td>-0.469072</td>\n",
       "      <td>1.632373</td>\n",
       "      <td>3.859332</td>\n",
       "      <td>128.86</td>\n",
       "      <td>1.170710</td>\n",
       "      <td>197.85</td>\n",
       "      <td>0.504745</td>\n",
       "      <td>-7.55</td>\n",
       "      <td>0.10</td>\n",
       "      <td>...</td>\n",
       "      <td>7.55</td>\n",
       "      <td>5.38</td>\n",
       "      <td>0</td>\n",
       "      <td>23.878219</td>\n",
       "      <td>1</td>\n",
       "      <td>0</td>\n",
       "      <td>0</td>\n",
       "      <td>0</td>\n",
       "      <td>0</td>\n",
       "      <td>0</td>\n",
       "    </tr>\n",
       "    <tr>\n",
       "      <th>2</th>\n",
       "      <td>2</td>\n",
       "      <td>-0.227564</td>\n",
       "      <td>-0.096682</td>\n",
       "      <td>3.896188</td>\n",
       "      <td>87.21</td>\n",
       "      <td>1.015368</td>\n",
       "      <td>3128.15</td>\n",
       "      <td>0.046595</td>\n",
       "      <td>18.28</td>\n",
       "      <td>0.07</td>\n",
       "      <td>...</td>\n",
       "      <td>2.71</td>\n",
       "      <td>12.21</td>\n",
       "      <td>0</td>\n",
       "      <td>23.484770</td>\n",
       "      <td>1</td>\n",
       "      <td>0</td>\n",
       "      <td>0</td>\n",
       "      <td>0</td>\n",
       "      <td>1</td>\n",
       "      <td>0</td>\n",
       "    </tr>\n",
       "    <tr>\n",
       "      <th>3</th>\n",
       "      <td>3</td>\n",
       "      <td>0.158547</td>\n",
       "      <td>-0.005780</td>\n",
       "      <td>0.896905</td>\n",
       "      <td>64.23</td>\n",
       "      <td>1.039657</td>\n",
       "      <td>709.17</td>\n",
       "      <td>0.876168</td>\n",
       "      <td>3.99</td>\n",
       "      <td>2.64</td>\n",
       "      <td>...</td>\n",
       "      <td>11.19</td>\n",
       "      <td>4.48</td>\n",
       "      <td>0</td>\n",
       "      <td>23.856282</td>\n",
       "      <td>1</td>\n",
       "      <td>0</td>\n",
       "      <td>0</td>\n",
       "      <td>0</td>\n",
       "      <td>0</td>\n",
       "      <td>0</td>\n",
       "    </tr>\n",
       "    <tr>\n",
       "      <th>4</th>\n",
       "      <td>4</td>\n",
       "      <td>-0.167466</td>\n",
       "      <td>0.162791</td>\n",
       "      <td>0.688436</td>\n",
       "      <td>74.69</td>\n",
       "      <td>1.162852</td>\n",
       "      <td>597.47</td>\n",
       "      <td>0.842492</td>\n",
       "      <td>4.00</td>\n",
       "      <td>2.16</td>\n",
       "      <td>...</td>\n",
       "      <td>1.95</td>\n",
       "      <td>4.78</td>\n",
       "      <td>0</td>\n",
       "      <td>23.900213</td>\n",
       "      <td>1</td>\n",
       "      <td>0</td>\n",
       "      <td>0</td>\n",
       "      <td>0</td>\n",
       "      <td>0</td>\n",
       "      <td>0</td>\n",
       "    </tr>\n",
       "  </tbody>\n",
       "</table>\n",
       "<p>5 rows × 35 columns</p>\n",
       "</div>"
      ],
      "text/plain": [
       "   Unnamed: 0  매출채권회전율변동  재고자산회전율변동  대손충당금율변동    유동비율    유동비율변동     부채비율  \\\n",
       "0           0  -0.706949   2.679380  3.859332  110.07  0.718051   391.98   \n",
       "1           1  -0.469072   1.632373  3.859332  128.86  1.170710   197.85   \n",
       "2           2  -0.227564  -0.096682  3.896188   87.21  1.015368  3128.15   \n",
       "3           3   0.158547  -0.005780  0.896905   64.23  1.039657   709.17   \n",
       "4           4  -0.167466   0.162791  0.688436   74.69  1.162852   597.47   \n",
       "\n",
       "     부채비율변동  영업활동현금흐름이자보상비율  금융비용_매출액비율  ...     총종차    매종차  오류수정및회계정책변경여부  \\\n",
       "0  2.635691           84.83        0.06  ...  191.56  16.66              0   \n",
       "1  0.504745           -7.55        0.10  ...    7.55   5.38              0   \n",
       "2  0.046595           18.28        0.07  ...    2.71  12.21              0   \n",
       "3  0.876168            3.99        2.64  ...   11.19   4.48              0   \n",
       "4  0.842492            4.00        2.16  ...    1.95   4.78              0   \n",
       "\n",
       "        자산총계  비상장  상장  상장관리  빅4여부  감사법인변동여부  비적정여부  \n",
       "0  23.759990    1   0     0     0         1      1  \n",
       "1  23.878219    1   0     0     0         0      0  \n",
       "2  23.484770    1   0     0     0         1      0  \n",
       "3  23.856282    1   0     0     0         0      0  \n",
       "4  23.900213    1   0     0     0         0      0  \n",
       "\n",
       "[5 rows x 35 columns]"
      ]
     },
     "execution_count": 209,
     "metadata": {},
     "output_type": "execute_result"
    }
   ],
   "source": [
    "#file = tf.keras.utils\n",
    "df = pd.read_excel('missforest로다채움.xlsx')\n",
    "df.head()"
   ]
  },
  {
   "cell_type": "code",
   "execution_count": 210,
   "metadata": {
    "collapsed": true
   },
   "outputs": [
    {
     "data": {
      "text/plain": [
       "0              0\n",
       "1              1\n",
       "2              2\n",
       "3              3\n",
       "4              4\n",
       "           ...  \n",
       "193204    193204\n",
       "193205    193205\n",
       "193206    193206\n",
       "193207    193207\n",
       "193208    193208\n",
       "Name: Unnamed: 0, Length: 193209, dtype: int64"
      ]
     },
     "execution_count": 210,
     "metadata": {},
     "output_type": "execute_result"
    }
   ],
   "source": [
    "df.pop('Unnamed: 0')"
   ]
  },
  {
   "cell_type": "code",
   "execution_count": 211,
   "metadata": {
    "collapsed": true
   },
   "outputs": [
    {
     "data": {
      "text/html": [
       "<div>\n",
       "<style scoped>\n",
       "    .dataframe tbody tr th:only-of-type {\n",
       "        vertical-align: middle;\n",
       "    }\n",
       "\n",
       "    .dataframe tbody tr th {\n",
       "        vertical-align: top;\n",
       "    }\n",
       "\n",
       "    .dataframe thead th {\n",
       "        text-align: right;\n",
       "    }\n",
       "</style>\n",
       "<table border=\"1\" class=\"dataframe\">\n",
       "  <thead>\n",
       "    <tr style=\"text-align: right;\">\n",
       "      <th></th>\n",
       "      <th>매출채권회전율변동</th>\n",
       "      <th>재고자산회전율변동</th>\n",
       "      <th>대손충당금율변동</th>\n",
       "      <th>유동비율</th>\n",
       "      <th>유동비율변동</th>\n",
       "      <th>부채비율</th>\n",
       "      <th>부채비율변동</th>\n",
       "      <th>영업활동현금흐름이자보상비율</th>\n",
       "      <th>금융비용_매출액비율</th>\n",
       "      <th>신용평점</th>\n",
       "      <th>...</th>\n",
       "      <th>총종차</th>\n",
       "      <th>매종차</th>\n",
       "      <th>오류수정및회계정책변경여부</th>\n",
       "      <th>자산총계</th>\n",
       "      <th>비상장</th>\n",
       "      <th>상장</th>\n",
       "      <th>상장관리</th>\n",
       "      <th>빅4여부</th>\n",
       "      <th>감사법인변동여부</th>\n",
       "      <th>비적정여부</th>\n",
       "    </tr>\n",
       "  </thead>\n",
       "  <tbody>\n",
       "    <tr>\n",
       "      <th>0</th>\n",
       "      <td>-0.706949</td>\n",
       "      <td>2.679380</td>\n",
       "      <td>3.859332</td>\n",
       "      <td>110.07</td>\n",
       "      <td>0.718051</td>\n",
       "      <td>391.98</td>\n",
       "      <td>2.635691</td>\n",
       "      <td>84.83</td>\n",
       "      <td>0.06</td>\n",
       "      <td>6.0</td>\n",
       "      <td>...</td>\n",
       "      <td>191.56</td>\n",
       "      <td>16.66</td>\n",
       "      <td>0</td>\n",
       "      <td>23.759990</td>\n",
       "      <td>1</td>\n",
       "      <td>0</td>\n",
       "      <td>0</td>\n",
       "      <td>0</td>\n",
       "      <td>1</td>\n",
       "      <td>1</td>\n",
       "    </tr>\n",
       "    <tr>\n",
       "      <th>1</th>\n",
       "      <td>-0.469072</td>\n",
       "      <td>1.632373</td>\n",
       "      <td>3.859332</td>\n",
       "      <td>128.86</td>\n",
       "      <td>1.170710</td>\n",
       "      <td>197.85</td>\n",
       "      <td>0.504745</td>\n",
       "      <td>-7.55</td>\n",
       "      <td>0.10</td>\n",
       "      <td>5.0</td>\n",
       "      <td>...</td>\n",
       "      <td>7.55</td>\n",
       "      <td>5.38</td>\n",
       "      <td>0</td>\n",
       "      <td>23.878219</td>\n",
       "      <td>1</td>\n",
       "      <td>0</td>\n",
       "      <td>0</td>\n",
       "      <td>0</td>\n",
       "      <td>0</td>\n",
       "      <td>0</td>\n",
       "    </tr>\n",
       "    <tr>\n",
       "      <th>2</th>\n",
       "      <td>-0.227564</td>\n",
       "      <td>-0.096682</td>\n",
       "      <td>3.896188</td>\n",
       "      <td>87.21</td>\n",
       "      <td>1.015368</td>\n",
       "      <td>3128.15</td>\n",
       "      <td>0.046595</td>\n",
       "      <td>18.28</td>\n",
       "      <td>0.07</td>\n",
       "      <td>6.0</td>\n",
       "      <td>...</td>\n",
       "      <td>2.71</td>\n",
       "      <td>12.21</td>\n",
       "      <td>0</td>\n",
       "      <td>23.484770</td>\n",
       "      <td>1</td>\n",
       "      <td>0</td>\n",
       "      <td>0</td>\n",
       "      <td>0</td>\n",
       "      <td>1</td>\n",
       "      <td>0</td>\n",
       "    </tr>\n",
       "    <tr>\n",
       "      <th>3</th>\n",
       "      <td>0.158547</td>\n",
       "      <td>-0.005780</td>\n",
       "      <td>0.896905</td>\n",
       "      <td>64.23</td>\n",
       "      <td>1.039657</td>\n",
       "      <td>709.17</td>\n",
       "      <td>0.876168</td>\n",
       "      <td>3.99</td>\n",
       "      <td>2.64</td>\n",
       "      <td>6.0</td>\n",
       "      <td>...</td>\n",
       "      <td>11.19</td>\n",
       "      <td>4.48</td>\n",
       "      <td>0</td>\n",
       "      <td>23.856282</td>\n",
       "      <td>1</td>\n",
       "      <td>0</td>\n",
       "      <td>0</td>\n",
       "      <td>0</td>\n",
       "      <td>0</td>\n",
       "      <td>0</td>\n",
       "    </tr>\n",
       "    <tr>\n",
       "      <th>4</th>\n",
       "      <td>-0.167466</td>\n",
       "      <td>0.162791</td>\n",
       "      <td>0.688436</td>\n",
       "      <td>74.69</td>\n",
       "      <td>1.162852</td>\n",
       "      <td>597.47</td>\n",
       "      <td>0.842492</td>\n",
       "      <td>4.00</td>\n",
       "      <td>2.16</td>\n",
       "      <td>6.0</td>\n",
       "      <td>...</td>\n",
       "      <td>1.95</td>\n",
       "      <td>4.78</td>\n",
       "      <td>0</td>\n",
       "      <td>23.900213</td>\n",
       "      <td>1</td>\n",
       "      <td>0</td>\n",
       "      <td>0</td>\n",
       "      <td>0</td>\n",
       "      <td>0</td>\n",
       "      <td>0</td>\n",
       "    </tr>\n",
       "  </tbody>\n",
       "</table>\n",
       "<p>5 rows × 34 columns</p>\n",
       "</div>"
      ],
      "text/plain": [
       "   매출채권회전율변동  재고자산회전율변동  대손충당금율변동    유동비율    유동비율변동     부채비율    부채비율변동  \\\n",
       "0  -0.706949   2.679380  3.859332  110.07  0.718051   391.98  2.635691   \n",
       "1  -0.469072   1.632373  3.859332  128.86  1.170710   197.85  0.504745   \n",
       "2  -0.227564  -0.096682  3.896188   87.21  1.015368  3128.15  0.046595   \n",
       "3   0.158547  -0.005780  0.896905   64.23  1.039657   709.17  0.876168   \n",
       "4  -0.167466   0.162791  0.688436   74.69  1.162852   597.47  0.842492   \n",
       "\n",
       "   영업활동현금흐름이자보상비율  금융비용_매출액비율  신용평점  ...     총종차    매종차  오류수정및회계정책변경여부  \\\n",
       "0           84.83        0.06   6.0  ...  191.56  16.66              0   \n",
       "1           -7.55        0.10   5.0  ...    7.55   5.38              0   \n",
       "2           18.28        0.07   6.0  ...    2.71  12.21              0   \n",
       "3            3.99        2.64   6.0  ...   11.19   4.48              0   \n",
       "4            4.00        2.16   6.0  ...    1.95   4.78              0   \n",
       "\n",
       "        자산총계  비상장  상장  상장관리  빅4여부  감사법인변동여부  비적정여부  \n",
       "0  23.759990    1   0     0     0         1      1  \n",
       "1  23.878219    1   0     0     0         0      0  \n",
       "2  23.484770    1   0     0     0         1      0  \n",
       "3  23.856282    1   0     0     0         0      0  \n",
       "4  23.900213    1   0     0     0         0      0  \n",
       "\n",
       "[5 rows x 34 columns]"
      ]
     },
     "execution_count": 211,
     "metadata": {},
     "output_type": "execute_result"
    }
   ],
   "source": [
    "df.head()"
   ]
  },
  {
   "cell_type": "markdown",
   "metadata": {},
   "source": [
    "## 클래스 레이블 불균형 조사"
   ]
  },
  {
   "cell_type": "code",
   "execution_count": 212,
   "metadata": {},
   "outputs": [
    {
     "name": "stdout",
     "output_type": "stream",
     "text": [
      "Examples:\n",
      "    Total: 193209\n",
      "    Positive: 11886 (6.15% of total)\n",
      "\n"
     ]
    }
   ],
   "source": [
    "neg, pos = np.bincount(df['비적정여부'])\n",
    "total = neg + pos\n",
    "print('Examples:\\n    Total: {}\\n    Positive: {} ({:.2f}% of total)\\n'.format(\n",
    "    total, pos, 100 * pos / total))"
   ]
  },
  {
   "cell_type": "markdown",
   "metadata": {},
   "source": [
    "## 데이터 정리, 분할 및 정규화"
   ]
  },
  {
   "cell_type": "code",
   "execution_count": 28,
   "metadata": {},
   "outputs": [
    {
     "data": {
      "text/plain": [
       "Index(['매출채권회전율변동', '재고자산회전율변동', '대손충당금율변동', '유동비율', '유동비율변동', '부채비율',\n",
       "       '부채비율변동', '영업활동현금흐름이자보상비율', '금융비용_매출액비율', '신용평점', '자기자본순이익률',\n",
       "       '자기자본순이익률변동', 'ROA', 'ROA변동', '적자여부', '매출액증가율', '자산퀄리티', '자산퀄리티변동',\n",
       "       '감가상각율변동', '판관비율', '판관비율변동', '총발생액비율', '총발생액비율변동', '매영차', '총종차', '매종차',\n",
       "       '오류수정및회계정책변경여부', '자산총계', '비상장', '상장', '상장관리', '빅4여부', '감사법인변동여부',\n",
       "       '비적정여부'],\n",
       "      dtype='object')"
      ]
     },
     "execution_count": 28,
     "metadata": {},
     "output_type": "execute_result"
    }
   ],
   "source": [
    "df.columns"
   ]
  },
  {
   "cell_type": "code",
   "execution_count": 213,
   "metadata": {},
   "outputs": [],
   "source": [
    "cleaned_df = df.copy()\n",
    "\n",
    "# You don't want the '판관비율', '총발생액비율', '감가상각율변동','ROA변동','자산퀄리티변동','부채비율변동','매종차',\n",
    "#  '판관비율변동', '유동비율', '금융비용_매출액비율', 'ROA', '적자여부' column.\n",
    "cleaned_df.drop(['판관비율', '총발생액비율', '감가상각율변동','ROA변동','자산퀄리티변동','부채비율변동','매종차',\\\n",
    "                '판관비율변동', '유동비율', '금융비용_매출액비율', 'ROA', '적자여부'],axis=1,inplace=True)\n",
    "\n",
    "# The `자산총계` column covers a huge range. Convert to log-space. 이미 로그변환 완료\n",
    "#eps=0.001 # 0 => 0.1¢\n",
    "#cleaned_df['Log 자산총계'] = np.log(cleaned_df.pop('자산총계')+eps)"
   ]
  },
  {
   "cell_type": "code",
   "execution_count": 214,
   "metadata": {},
   "outputs": [],
   "source": [
    "\n",
    "std = StandardScaler()\n",
    "pt = PowerTransformer()\n",
    "# rbst = RobustScaler()\n",
    "arr = pt.fit_transform(cleaned_df[['매출채권회전율변동', '재고자산회전율변동', '대손충당금율변동', '유동비율변동', '부채비율',\n",
    "       '영업활동현금흐름이자보상비율', '신용평점', '자기자본순이익률', '자기자본순이익률변동', '매출액증가율', '자산퀄리티',\n",
    "       '총발생액비율변동', '매영차', '총종차']])\n",
    "cleaned_df[['매출채권회전율변동', '재고자산회전율변동', '대손충당금율변동', '유동비율변동', '부채비율',\n",
    "       '영업활동현금흐름이자보상비율', '신용평점', '자기자본순이익률', '자기자본순이익률변동', '매출액증가율', '자산퀄리티',\n",
    "       '총발생액비율변동', '매영차', '총종차']] = arr\n",
    "arr2 = std.fit_transform(cleaned_df[['매출채권회전율변동', '재고자산회전율변동', '대손충당금율변동', '유동비율변동', '부채비율',\n",
    "       '영업활동현금흐름이자보상비율', '신용평점', '자기자본순이익률', '자기자본순이익률변동', '매출액증가율', '자산퀄리티',\n",
    "       '총발생액비율변동', '매영차', '총종차', '자산총계']])\n",
    "cleaned_df[['매출채권회전율변동', '재고자산회전율변동', '대손충당금율변동', '유동비율변동', '부채비율',\n",
    "       '영업활동현금흐름이자보상비율', '신용평점', '자기자본순이익률', '자기자본순이익률변동', '매출액증가율', '자산퀄리티',\n",
    "       '총발생액비율변동', '매영차', '총종차', '자산총계']] = arr2"
   ]
  },
  {
   "cell_type": "code",
   "execution_count": 135,
   "metadata": {
    "collapsed": true
   },
   "outputs": [
    {
     "data": {
      "text/html": [
       "<div>\n",
       "<style scoped>\n",
       "    .dataframe tbody tr th:only-of-type {\n",
       "        vertical-align: middle;\n",
       "    }\n",
       "\n",
       "    .dataframe tbody tr th {\n",
       "        vertical-align: top;\n",
       "    }\n",
       "\n",
       "    .dataframe thead th {\n",
       "        text-align: right;\n",
       "    }\n",
       "</style>\n",
       "<table border=\"1\" class=\"dataframe\">\n",
       "  <thead>\n",
       "    <tr style=\"text-align: right;\">\n",
       "      <th></th>\n",
       "      <th>매출채권회전율변동</th>\n",
       "      <th>재고자산회전율변동</th>\n",
       "      <th>대손충당금율변동</th>\n",
       "      <th>유동비율변동</th>\n",
       "      <th>부채비율</th>\n",
       "      <th>영업활동현금흐름이자보상비율</th>\n",
       "      <th>신용평점</th>\n",
       "      <th>자기자본순이익률</th>\n",
       "      <th>자기자본순이익률변동</th>\n",
       "      <th>매출액증가율</th>\n",
       "      <th>...</th>\n",
       "      <th>매영차</th>\n",
       "      <th>총종차</th>\n",
       "      <th>오류수정및회계정책변경여부</th>\n",
       "      <th>자산총계</th>\n",
       "      <th>비상장</th>\n",
       "      <th>상장</th>\n",
       "      <th>상장관리</th>\n",
       "      <th>빅4여부</th>\n",
       "      <th>감사법인변동여부</th>\n",
       "      <th>비적정여부</th>\n",
       "    </tr>\n",
       "  </thead>\n",
       "  <tbody>\n",
       "    <tr>\n",
       "      <th>count</th>\n",
       "      <td>1.932090e+05</td>\n",
       "      <td>1.932090e+05</td>\n",
       "      <td>1.932090e+05</td>\n",
       "      <td>1.932090e+05</td>\n",
       "      <td>1.932090e+05</td>\n",
       "      <td>1.932090e+05</td>\n",
       "      <td>1.932090e+05</td>\n",
       "      <td>1.932090e+05</td>\n",
       "      <td>1.932090e+05</td>\n",
       "      <td>1.932090e+05</td>\n",
       "      <td>...</td>\n",
       "      <td>1.932090e+05</td>\n",
       "      <td>1.932090e+05</td>\n",
       "      <td>193209.000000</td>\n",
       "      <td>1.932090e+05</td>\n",
       "      <td>193209.000000</td>\n",
       "      <td>193209.000000</td>\n",
       "      <td>193209.000000</td>\n",
       "      <td>193209.000000</td>\n",
       "      <td>193209.000000</td>\n",
       "      <td>193209.000000</td>\n",
       "    </tr>\n",
       "    <tr>\n",
       "      <th>mean</th>\n",
       "      <td>-5.884138e-19</td>\n",
       "      <td>6.104793e-18</td>\n",
       "      <td>-1.779952e-17</td>\n",
       "      <td>-5.884138e-19</td>\n",
       "      <td>1.463679e-17</td>\n",
       "      <td>-3.824690e-18</td>\n",
       "      <td>-8.826207e-18</td>\n",
       "      <td>3.236276e-18</td>\n",
       "      <td>4.321164e-19</td>\n",
       "      <td>4.551013e-19</td>\n",
       "      <td>...</td>\n",
       "      <td>1.441614e-17</td>\n",
       "      <td>-1.941765e-17</td>\n",
       "      <td>0.113928</td>\n",
       "      <td>4.782627e-15</td>\n",
       "      <td>0.895150</td>\n",
       "      <td>0.099726</td>\n",
       "      <td>0.005124</td>\n",
       "      <td>0.199494</td>\n",
       "      <td>0.303221</td>\n",
       "      <td>0.061519</td>\n",
       "    </tr>\n",
       "    <tr>\n",
       "      <th>std</th>\n",
       "      <td>1.000003e+00</td>\n",
       "      <td>1.000003e+00</td>\n",
       "      <td>1.000003e+00</td>\n",
       "      <td>1.000003e+00</td>\n",
       "      <td>1.000003e+00</td>\n",
       "      <td>1.000003e+00</td>\n",
       "      <td>1.000003e+00</td>\n",
       "      <td>1.000003e+00</td>\n",
       "      <td>1.000003e+00</td>\n",
       "      <td>1.000003e+00</td>\n",
       "      <td>...</td>\n",
       "      <td>1.000003e+00</td>\n",
       "      <td>1.000003e+00</td>\n",
       "      <td>0.317725</td>\n",
       "      <td>1.000003e+00</td>\n",
       "      <td>0.306361</td>\n",
       "      <td>0.299635</td>\n",
       "      <td>0.071399</td>\n",
       "      <td>0.399621</td>\n",
       "      <td>0.459651</td>\n",
       "      <td>0.240280</td>\n",
       "    </tr>\n",
       "    <tr>\n",
       "      <th>min</th>\n",
       "      <td>-2.716404e+02</td>\n",
       "      <td>-1.301328e+02</td>\n",
       "      <td>-6.957608e+01</td>\n",
       "      <td>-3.581912e+02</td>\n",
       "      <td>-3.602095e+00</td>\n",
       "      <td>-1.927490e+02</td>\n",
       "      <td>-2.317649e+00</td>\n",
       "      <td>-1.328561e+02</td>\n",
       "      <td>-1.105618e+02</td>\n",
       "      <td>-3.322553e+02</td>\n",
       "      <td>...</td>\n",
       "      <td>-2.496236e+00</td>\n",
       "      <td>-2.318035e+00</td>\n",
       "      <td>0.000000</td>\n",
       "      <td>-9.443798e+00</td>\n",
       "      <td>0.000000</td>\n",
       "      <td>0.000000</td>\n",
       "      <td>0.000000</td>\n",
       "      <td>0.000000</td>\n",
       "      <td>0.000000</td>\n",
       "      <td>0.000000</td>\n",
       "    </tr>\n",
       "    <tr>\n",
       "      <th>25%</th>\n",
       "      <td>-5.876187e-02</td>\n",
       "      <td>-4.592387e-01</td>\n",
       "      <td>-6.191018e-01</td>\n",
       "      <td>-5.617546e-02</td>\n",
       "      <td>-5.856591e-01</td>\n",
       "      <td>-7.089084e-02</td>\n",
       "      <td>-8.328743e-01</td>\n",
       "      <td>-3.999104e-02</td>\n",
       "      <td>-9.040363e-04</td>\n",
       "      <td>-9.085778e-04</td>\n",
       "      <td>...</td>\n",
       "      <td>-6.731166e-01</td>\n",
       "      <td>-6.858715e-01</td>\n",
       "      <td>0.000000</td>\n",
       "      <td>-6.970821e-01</td>\n",
       "      <td>1.000000</td>\n",
       "      <td>0.000000</td>\n",
       "      <td>0.000000</td>\n",
       "      <td>0.000000</td>\n",
       "      <td>0.000000</td>\n",
       "      <td>0.000000</td>\n",
       "    </tr>\n",
       "    <tr>\n",
       "      <th>50%</th>\n",
       "      <td>-4.419814e-02</td>\n",
       "      <td>-9.087834e-02</td>\n",
       "      <td>-4.084208e-01</td>\n",
       "      <td>-3.852556e-02</td>\n",
       "      <td>-1.277452e-02</td>\n",
       "      <td>-7.086072e-02</td>\n",
       "      <td>1.026096e-01</td>\n",
       "      <td>3.880652e-02</td>\n",
       "      <td>4.950501e-03</td>\n",
       "      <td>-6.254944e-04</td>\n",
       "      <td>...</td>\n",
       "      <td>-9.733719e-03</td>\n",
       "      <td>-1.437297e-02</td>\n",
       "      <td>0.000000</td>\n",
       "      <td>-2.468298e-01</td>\n",
       "      <td>1.000000</td>\n",
       "      <td>0.000000</td>\n",
       "      <td>0.000000</td>\n",
       "      <td>0.000000</td>\n",
       "      <td>0.000000</td>\n",
       "      <td>0.000000</td>\n",
       "    </tr>\n",
       "    <tr>\n",
       "      <th>75%</th>\n",
       "      <td>-1.635326e-02</td>\n",
       "      <td>3.353767e-01</td>\n",
       "      <td>6.009476e-01</td>\n",
       "      <td>-1.897621e-02</td>\n",
       "      <td>5.090910e-01</td>\n",
       "      <td>-7.069035e-02</td>\n",
       "      <td>5.599193e-01</td>\n",
       "      <td>1.546795e-01</td>\n",
       "      <td>1.150246e-02</td>\n",
       "      <td>-3.906986e-04</td>\n",
       "      <td>...</td>\n",
       "      <td>7.151026e-01</td>\n",
       "      <td>7.033667e-01</td>\n",
       "      <td>0.000000</td>\n",
       "      <td>4.716678e-01</td>\n",
       "      <td>1.000000</td>\n",
       "      <td>0.000000</td>\n",
       "      <td>0.000000</td>\n",
       "      <td>0.000000</td>\n",
       "      <td>1.000000</td>\n",
       "      <td>0.000000</td>\n",
       "    </tr>\n",
       "    <tr>\n",
       "      <th>max</th>\n",
       "      <td>1.066434e+02</td>\n",
       "      <td>5.802778e+00</td>\n",
       "      <td>2.891356e+00</td>\n",
       "      <td>1.155258e+02</td>\n",
       "      <td>3.861263e+00</td>\n",
       "      <td>1.391071e+02</td>\n",
       "      <td>1.900567e+00</td>\n",
       "      <td>9.794351e+01</td>\n",
       "      <td>2.317799e+02</td>\n",
       "      <td>2.707646e+02</td>\n",
       "      <td>...</td>\n",
       "      <td>3.912005e+00</td>\n",
       "      <td>4.206670e+00</td>\n",
       "      <td>1.000000</td>\n",
       "      <td>7.612787e+00</td>\n",
       "      <td>1.000000</td>\n",
       "      <td>1.000000</td>\n",
       "      <td>1.000000</td>\n",
       "      <td>1.000000</td>\n",
       "      <td>1.000000</td>\n",
       "      <td>1.000000</td>\n",
       "    </tr>\n",
       "  </tbody>\n",
       "</table>\n",
       "<p>8 rows × 22 columns</p>\n",
       "</div>"
      ],
      "text/plain": [
       "          매출채권회전율변동     재고자산회전율변동      대손충당금율변동        유동비율변동          부채비율  \\\n",
       "count  1.932090e+05  1.932090e+05  1.932090e+05  1.932090e+05  1.932090e+05   \n",
       "mean  -5.884138e-19  6.104793e-18 -1.779952e-17 -5.884138e-19  1.463679e-17   \n",
       "std    1.000003e+00  1.000003e+00  1.000003e+00  1.000003e+00  1.000003e+00   \n",
       "min   -2.716404e+02 -1.301328e+02 -6.957608e+01 -3.581912e+02 -3.602095e+00   \n",
       "25%   -5.876187e-02 -4.592387e-01 -6.191018e-01 -5.617546e-02 -5.856591e-01   \n",
       "50%   -4.419814e-02 -9.087834e-02 -4.084208e-01 -3.852556e-02 -1.277452e-02   \n",
       "75%   -1.635326e-02  3.353767e-01  6.009476e-01 -1.897621e-02  5.090910e-01   \n",
       "max    1.066434e+02  5.802778e+00  2.891356e+00  1.155258e+02  3.861263e+00   \n",
       "\n",
       "       영업활동현금흐름이자보상비율          신용평점      자기자본순이익률    자기자본순이익률변동        매출액증가율  \\\n",
       "count    1.932090e+05  1.932090e+05  1.932090e+05  1.932090e+05  1.932090e+05   \n",
       "mean    -3.824690e-18 -8.826207e-18  3.236276e-18  4.321164e-19  4.551013e-19   \n",
       "std      1.000003e+00  1.000003e+00  1.000003e+00  1.000003e+00  1.000003e+00   \n",
       "min     -1.927490e+02 -2.317649e+00 -1.328561e+02 -1.105618e+02 -3.322553e+02   \n",
       "25%     -7.089084e-02 -8.328743e-01 -3.999104e-02 -9.040363e-04 -9.085778e-04   \n",
       "50%     -7.086072e-02  1.026096e-01  3.880652e-02  4.950501e-03 -6.254944e-04   \n",
       "75%     -7.069035e-02  5.599193e-01  1.546795e-01  1.150246e-02 -3.906986e-04   \n",
       "max      1.391071e+02  1.900567e+00  9.794351e+01  2.317799e+02  2.707646e+02   \n",
       "\n",
       "       ...           매영차           총종차  오류수정및회계정책변경여부          자산총계  \\\n",
       "count  ...  1.932090e+05  1.932090e+05  193209.000000  1.932090e+05   \n",
       "mean   ...  1.441614e-17 -1.941765e-17       0.113928  4.782627e-15   \n",
       "std    ...  1.000003e+00  1.000003e+00       0.317725  1.000003e+00   \n",
       "min    ... -2.496236e+00 -2.318035e+00       0.000000 -9.443798e+00   \n",
       "25%    ... -6.731166e-01 -6.858715e-01       0.000000 -6.970821e-01   \n",
       "50%    ... -9.733719e-03 -1.437297e-02       0.000000 -2.468298e-01   \n",
       "75%    ...  7.151026e-01  7.033667e-01       0.000000  4.716678e-01   \n",
       "max    ...  3.912005e+00  4.206670e+00       1.000000  7.612787e+00   \n",
       "\n",
       "                 비상장             상장           상장관리           빅4여부  \\\n",
       "count  193209.000000  193209.000000  193209.000000  193209.000000   \n",
       "mean        0.895150       0.099726       0.005124       0.199494   \n",
       "std         0.306361       0.299635       0.071399       0.399621   \n",
       "min         0.000000       0.000000       0.000000       0.000000   \n",
       "25%         1.000000       0.000000       0.000000       0.000000   \n",
       "50%         1.000000       0.000000       0.000000       0.000000   \n",
       "75%         1.000000       0.000000       0.000000       0.000000   \n",
       "max         1.000000       1.000000       1.000000       1.000000   \n",
       "\n",
       "            감사법인변동여부          비적정여부  \n",
       "count  193209.000000  193209.000000  \n",
       "mean        0.303221       0.061519  \n",
       "std         0.459651       0.240280  \n",
       "min         0.000000       0.000000  \n",
       "25%         0.000000       0.000000  \n",
       "50%         0.000000       0.000000  \n",
       "75%         1.000000       0.000000  \n",
       "max         1.000000       1.000000  \n",
       "\n",
       "[8 rows x 22 columns]"
      ]
     },
     "execution_count": 135,
     "metadata": {},
     "output_type": "execute_result"
    }
   ],
   "source": [
    "cleaned_df.describe()"
   ]
  },
  {
   "cell_type": "code",
   "execution_count": 215,
   "metadata": {},
   "outputs": [],
   "source": [
    "# Use a utility from sklearn to split and shuffle our dataset.\n",
    "from keras.utils import to_categorical\n",
    "y = cleaned_df.pop('비적정여부')\n",
    "Y = np.array(y)\n",
    "Y = to_categorical(Y)\n",
    "\n",
    "X = cleaned_df\n",
    "\n",
    "X_train, X_test, y_train, y_test = train_test_split(X, Y, test_size=0.3, random_state=0) \n",
    "# Form np arrays of labels and features.\n",
    "y_train_labels = np.array(y_train)\n",
    "bool_train_labels = y_train[:,[1]].reshape(-1) != 0\n",
    "y_test_labels = np.array(y_test)\n",
    "\n",
    "\n",
    "X_train_features = np.array(X_train)\n",
    "X_test_features = np.array(X_test)"
   ]
  },
  {
   "cell_type": "code",
   "execution_count": 216,
   "metadata": {},
   "outputs": [
    {
     "name": "stdout",
     "output_type": "stream",
     "text": [
      "Training labels shape: (135246, 2)\n",
      "Test labels shape: (57963, 2)\n",
      "Training features shape: (135246, 21)\n",
      "Test features shape: (57963, 21)\n"
     ]
    }
   ],
   "source": [
    "#X_train_features = np.clip(X_train_features, -5, 5) ##우리 데이터의 값에 맞게 설정\n",
    "#X_test_features = np.clip(X_test_features, -5, 5)\n",
    "\n",
    "\n",
    "print('Training labels shape:', y_train_labels.shape)\n",
    "print('Test labels shape:', y_test_labels.shape)\n",
    "\n",
    "print('Training features shape:', X_train_features.shape)\n",
    "print('Test features shape:', X_test_features.shape)"
   ]
  },
  {
   "cell_type": "markdown",
   "metadata": {},
   "source": [
    "## 데이터 분포 살펴보기"
   ]
  },
  {
   "cell_type": "code",
   "execution_count": 217,
   "metadata": {},
   "outputs": [
    {
     "name": "stderr",
     "output_type": "stream",
     "text": [
      "C:\\Users\\jo\\anaconda3\\envs\\tf15\\lib\\site-packages\\matplotlib\\backends\\backend_agg.py:238: RuntimeWarning: Glyph 8722 missing from current font.\n",
      "  font.set_text(s, 0.0, flags=flags)\n",
      "C:\\Users\\jo\\anaconda3\\envs\\tf15\\lib\\site-packages\\matplotlib\\backends\\backend_agg.py:201: RuntimeWarning: Glyph 8722 missing from current font.\n",
      "  font.set_text(s, 0, flags=flags)\n"
     ]
    },
    {
     "data": {
      "image/png": "[encoded data removed]",
      "text/plain": [
       "<Figure size 432x432 with 3 Axes>"
      ]
     },
     "metadata": {
      "needs_background": "light"
     },
     "output_type": "display_data"
    },
    {
     "data": {
      "image/png": "[encoded data removed]",
      "text/plain": [
       "<Figure size 432x432 with 3 Axes>"
      ]
     },
     "metadata": {
      "needs_background": "light"
     },
     "output_type": "display_data"
    }
   ],
   "source": [
    "import matplotlib.pyplot as plt\n",
    "plt.rc('font', family='Malgun Gothic')\n",
    "\n",
    "pos_df = pd.DataFrame(X_train_features[bool_train_labels], columns = X_train.columns)\n",
    "neg_df = pd.DataFrame(X_train_features[~bool_train_labels], columns = X_train.columns)\n",
    "\n",
    "sns.jointplot(pos_df['자산총계'], pos_df['매영차'],\n",
    "              kind='hex', xlim = (-5,5), ylim = (-5,5))\n",
    "plt.suptitle(\"Positive distribution\")\n",
    "\n",
    "sns.jointplot(neg_df['자산총계'], neg_df['매영차'],\n",
    "              kind='hex', xlim = (-5,5), ylim = (-5,5))\n",
    "_ = plt.suptitle(\"Negative distribution\")"
   ]
  },
  {
   "cell_type": "markdown",
   "metadata": {},
   "source": [
    "## 모델 및 메트릭 정의"
   ]
  },
  {
   "cell_type": "code",
   "execution_count": 59,
   "metadata": {},
   "outputs": [],
   "source": [
    "from keras.models import Sequential\n",
    "from keras.layers import Dense"
   ]
  },
  {
   "cell_type": "code",
   "execution_count": 70,
   "metadata": {},
   "outputs": [],
   "source": [
    "METRICS = [\n",
    "      keras.metrics.TruePositives(name='tp'),\n",
    "      keras.metrics.FalsePositives(name='fp'),\n",
    "      keras.metrics.TrueNegatives(name='tn'),\n",
    "      keras.metrics.FalseNegatives(name='fn'), \n",
    "      keras.metrics.BinaryAccuracy(name='accuracy'),\n",
    "      keras.metrics.Precision(name='precision'),\n",
    "      keras.metrics.Recall(name='recall'),\n",
    "      keras.metrics.AUC(name='auc'),\n",
    "]\n",
    "\n",
    "def make_model(metrics = METRICS, output_bias='zeros'):\n",
    "    if output_bias != 'zeros':\n",
    "        output_bias = tf.keras.initializers.Constant(output_bias)\n",
    "    model = Sequential()\n",
    "    model.add(Dense(units=21, input_dim=21, activation='relu'))\n",
    "    model.add(Dense(units=21, activation='relu'))\n",
    "    model.add(Dense(units=18, activation='relu'))\n",
    "    model.add(Dense(units=15, activation='relu'))\n",
    "    model.add(Dense(units=7, activation='relu'))\n",
    "    model.add(Dense(units=2, activation='softmax',bias_initializer=output_bias))\n",
    "\n",
    "    model.compile(loss=keras.losses.BinaryCrossentropy(), optimizer=\"adam\" ,metrics=METRICS)\n",
    "\n",
    "    return model"
   ]
  },
  {
   "cell_type": "code",
   "execution_count": 120,
   "metadata": {},
   "outputs": [],
   "source": [
    "from keras import backend as K\n",
    "def get_f1(y_train, y_pred): #taken from old keras source code\n",
    "    true_positives = K.sum(K.round(K.clip(y_train * y_pred, 0, 1)))\n",
    "    possible_positives = K.sum(K.round(K.clip(y_train, 0, 1)))\n",
    "    predicted_positives = K.sum(K.round(K.clip(y_pred, 0, 1)))\n",
    "    precision = true_positives / (predicted_positives + K.epsilon())\n",
    "    recall = true_positives / (possible_positives + K.epsilon())\n",
    "    f1_val = 2*(precision*recall)/(precision+recall+K.epsilon())\n",
    "    return f1_val\n",
    "\n",
    "def recall_m(y_true, y_pred):\n",
    "        true_positives = K.sum(K.round(K.clip(y_true * y_pred, 0, 1)))\n",
    "        possible_positives = K.sum(K.round(K.clip(y_true, 0, 1)))\n",
    "        recall = true_positives / (possible_positives + K.epsilon())\n",
    "        return recall\n",
    "\n",
    "def precision_m(y_true, y_pred):\n",
    "        true_positives = K.sum(K.round(K.clip(y_true * y_pred, 0, 1)))\n",
    "        predicted_positives = K.sum(K.round(K.clip(y_pred, 0, 1)))\n",
    "        precision = true_positives / (predicted_positives + K.epsilon())\n",
    "        return precision\n",
    "\n",
    "def f1_m(y_true, y_pred):\n",
    "    precision = precision_m(y_true, y_pred)\n",
    "    recall = recall_m(y_true, y_pred)\n",
    "    return 2*((precision*recall)/(precision+recall+K.epsilon()))\n",
    "\n",
    "\n",
    "METRICS = [\n",
    "      keras.metrics.TruePositives(name='tp'),\n",
    "      keras.metrics.FalsePositives(name='fp'),\n",
    "      keras.metrics.TrueNegatives(name='tn'),\n",
    "      keras.metrics.FalseNegatives(name='fn'), \n",
    "      keras.metrics.BinaryAccuracy(name='accuracy'),\n",
    "      keras.metrics.Precision(name='precision'),\n",
    "      keras.metrics.Recall(name='recall'),\n",
    "      keras.metrics.AUC(name='auc'),\n",
    "      get_f1,\n",
    "      recall_m,\n",
    "      precision_m,\n",
    "      f1_m]\n",
    "\n",
    "\n",
    "def binary_focal_loss(gamma=2., alpha=.25):\n",
    "    \"\"\"\n",
    "    Binary form of focal loss.\n",
    "      FL(p_t) = -alpha * (1 - p_t)**gamma * log(p_t)\n",
    "      where p = sigmoid(x), p_t = p or 1 - p depending on if the label is 1 or 0, respectively.\n",
    "    References:\n",
    "        https://arxiv.org/pdf/1708.02002.pdf\n",
    "    Usage:\n",
    "     model.compile(loss=[binary_focal_loss(alpha=.25, gamma=2)], metrics=[\"accuracy\"], optimizer=adam)\n",
    "    \"\"\"\n",
    "\n",
    "    def binary_focal_loss_fixed(y_true, y_pred):\n",
    "        \"\"\"\n",
    "        :param y_true: A tensor of the same shape as `y_pred`\n",
    "        :param y_pred:  A tensor resulting from a sigmoid\n",
    "        :return: Output tensor.\n",
    "        \"\"\"\n",
    "        y_true = tf.cast(y_true, tf.float32)\n",
    "        # Define epsilon so that the back-propagation will not result in NaN for 0 divisor case\n",
    "        epsilon = K.epsilon()\n",
    "        # Add the epsilon to prediction value\n",
    "        # y_pred = y_pred + epsilon\n",
    "        # Clip the prediciton value\n",
    "        y_pred = K.clip(y_pred, epsilon, 1.0 - epsilon)\n",
    "        # Calculate p_t\n",
    "        p_t = tf.where(K.equal(y_true, 1), y_pred, 1 - y_pred)\n",
    "        # Calculate alpha_t\n",
    "        alpha_factor = K.ones_like(y_true) * alpha\n",
    "        alpha_t = tf.where(K.equal(y_true, 1), alpha_factor, 1 - alpha_factor)\n",
    "        # Calculate cross entropy\n",
    "        cross_entropy = -K.log(p_t)\n",
    "        weight = alpha_t * K.pow((1 - p_t), gamma)\n",
    "        # Calculate focal loss\n",
    "        loss = weight * cross_entropy\n",
    "        # Sum the losses in mini_batch\n",
    "        loss = K.mean(K.sum(loss, axis=1))\n",
    "        return loss\n",
    "\n",
    "    return binary_focal_loss_fixed"
   ]
  },
  {
   "cell_type": "code",
   "execution_count": 168,
   "metadata": {},
   "outputs": [],
   "source": [
    "METRICS = [\n",
    "      keras.metrics.TruePositives(name='tp'),\n",
    "      keras.metrics.FalsePositives(name='fp'),\n",
    "      keras.metrics.TrueNegatives(name='tn'),\n",
    "      keras.metrics.FalseNegatives(name='fn'), \n",
    "      keras.metrics.BinaryAccuracy(name='accuracy'),\n",
    "      keras.metrics.Precision(name='precision'),\n",
    "      keras.metrics.Recall(name='recall'),\n",
    "      keras.metrics.AUC(name='auc'),\n",
    "      get_f1,\n",
    "      recall_m,\n",
    "      precision_m,\n",
    "      f1_m]\n",
    "\n",
    "def make_model(metrics = METRICS, output_bias='zeros'):\n",
    "    if output_bias != 'zeros':\n",
    "        output_bias = tf.keras.initializers.Constant(output_bias)\n",
    "    model = Sequential()\n",
    "    model.add(Dense(units=21, input_dim=21, activation='relu'))\n",
    "    model.add(Dense(units=21, activation='relu'))\n",
    "    model.add(Dense(units=18, activation='relu'))\n",
    "    model.add(Dense(units=15, activation='relu'))\n",
    "    model.add(Dense(units=7, activation='relu'))\n",
    "    model.add(Dense(units=2, activation='softmax',bias_initializer=output_bias))\n",
    "\n",
    "    model.compile(loss=[binary_focal_loss(alpha=.25, gamma=2)], optimizer=\"adam\" ,metrics=METRICS)\n",
    "\n",
    "    return model"
   ]
  },
  {
   "cell_type": "markdown",
   "metadata": {},
   "source": [
    "# 기준 모델\n",
    "## 모델 구축"
   ]
  },
  {
   "cell_type": "code",
   "execution_count": 154,
   "metadata": {},
   "outputs": [],
   "source": [
    "EPOCHS = 100\n",
    "BATCH_SIZE = 2048\n",
    "\n",
    "early_stopping = tf.keras.callbacks.EarlyStopping(\n",
    "    monitor='val_auc', \n",
    "    verbose=1,\n",
    "    patience=10,\n",
    "    mode='max',\n",
    "    restore_best_weights=True) \n",
    "# 너무 많은 에폭은 오버피팅, 적은 에폭은 언더피팅을 일으킨다. \n",
    "# 따라서 early_stopping를 지정해주고 epochs을 많이 늘려주고 특정시점에서 알아서 멈추도록 한다 \n",
    "# monitor : val_auc를 모니터한다. \n",
    "# mode : 이 경우 val_auc를 max하는 방향으로 진행한다.\n",
    "# patience : 성능이 증가하지 않는다고 바로 멈추는 것은 효과적이지 않다. 성능이 증가하지 않는 epoch 을 몇 번이나 허용할 것인가를 정의한다. partience 는 다소 주관적인 기준이다. 사용한 데이터와 모델의 설계에 따라 최적의 값이 바뀔 수 있다.\n",
    "# restore_best_weights : 모니터링 된 수량 중 가장 좋은 값을 사용하여 에포크에서 모델 가중치를 복원할지 여부입니다. False이면 훈련의 마지막 단계에서 얻은 모델 가중치가 사용됩니다."
   ]
  },
  {
   "cell_type": "code",
   "execution_count": 175,
   "metadata": {},
   "outputs": [
    {
     "name": "stdout",
     "output_type": "stream",
     "text": [
      "Model: \"sequential_22\"\n",
      "_________________________________________________________________\n",
      "Layer (type)                 Output Shape              Param #   \n",
      "=================================================================\n",
      "dense_127 (Dense)            (None, 21)                462       \n",
      "_________________________________________________________________\n",
      "dense_128 (Dense)            (None, 21)                462       \n",
      "_________________________________________________________________\n",
      "dense_129 (Dense)            (None, 18)                396       \n",
      "_________________________________________________________________\n",
      "dense_130 (Dense)            (None, 15)                285       \n",
      "_________________________________________________________________\n",
      "dense_131 (Dense)            (None, 7)                 112       \n",
      "_________________________________________________________________\n",
      "dense_132 (Dense)            (None, 2)                 16        \n",
      "=================================================================\n",
      "Total params: 1,733\n",
      "Trainable params: 1,733\n",
      "Non-trainable params: 0\n",
      "_________________________________________________________________\n"
     ]
    }
   ],
   "source": [
    "model = make_model()\n",
    "model.summary()"
   ]
  },
  {
   "cell_type": "markdown",
   "metadata": {},
   "source": [
    "### 모델 테스트 실행"
   ]
  },
  {
   "cell_type": "code",
   "execution_count": 170,
   "metadata": {},
   "outputs": [
    {
     "data": {
      "text/plain": [
       "array([0, 0, 0, 0, 0, 0, 0, 0, 0, 0], dtype=int64)"
      ]
     },
     "execution_count": 170,
     "metadata": {},
     "output_type": "execute_result"
    }
   ],
   "source": [
    "model.predict_classes(X_train_features[0:10])"
   ]
  },
  {
   "cell_type": "code",
   "execution_count": 176,
   "metadata": {},
   "outputs": [
    {
     "name": "stdout",
     "output_type": "stream",
     "text": [
      "135246/135246 [==============================] - 2s 12us/step\n",
      "Loss: 0.1086\n"
     ]
    }
   ],
   "source": [
    "results = model.evaluate(X_train_features, y_train_labels, batch_size=BATCH_SIZE)\n",
    "print(\"Loss: {:0.4f}\".format(results[0]))"
   ]
  },
  {
   "cell_type": "code",
   "execution_count": 172,
   "metadata": {},
   "outputs": [
    {
     "data": {
      "text/plain": [
       "array([-2.72491873])"
      ]
     },
     "execution_count": 172,
     "metadata": {},
     "output_type": "execute_result"
    }
   ],
   "source": [
    "initial_bias = np.log([pos/neg])\n",
    "initial_bias"
   ]
  },
  {
   "cell_type": "code",
   "execution_count": 177,
   "metadata": {},
   "outputs": [
    {
     "name": "stderr",
     "output_type": "stream",
     "text": [
      "C:\\Users\\jo\\anaconda3\\envs\\tf15\\lib\\site-packages\\ipykernel_launcher.py:16: FutureWarning: elementwise comparison failed; returning scalar instead, but in the future will perform elementwise comparison\n",
      "  app.launch_new_instance()\n"
     ]
    }
   ],
   "source": [
    "model = make_model(output_bias = initial_bias)\n",
    "#model.predict(train_features[:10])"
   ]
  },
  {
   "cell_type": "code",
   "execution_count": 178,
   "metadata": {},
   "outputs": [
    {
     "name": "stdout",
     "output_type": "stream",
     "text": [
      "135246/135246 [==============================] - 2s 16us/step\n",
      "Loss: 0.1435\n"
     ]
    }
   ],
   "source": [
    "results = model.evaluate(X_train_features, y_train_labels, batch_size=BATCH_SIZE) #initial_bias설정하면 위에 loss보다 작아야되는데 높다. 일단 무시\n",
    "print(\"Loss: {:0.4f}\".format(results[0]))"
   ]
  },
  {
   "cell_type": "code",
   "execution_count": null,
   "metadata": {},
   "outputs": [],
   "source": []
  },
  {
   "cell_type": "code",
   "execution_count": null,
   "metadata": {},
   "outputs": [],
   "source": [
    "# 일단 아래무시"
   ]
  },
  {
   "cell_type": "code",
   "execution_count": null,
   "metadata": {},
   "outputs": [],
   "source": [
    "initial_weights = os.path.join(tempfile.mkdtemp(),'initial_weights')\n",
    "model.save_weights(initial_weights)"
   ]
  },
  {
   "cell_type": "code",
   "execution_count": null,
   "metadata": {},
   "outputs": [],
   "source": [
    "model = make_model()\n",
    "model.load_weights(initial_weights)\n",
    "model.layers[-1].bias.assign([0.0])\n",
    "zero_bias_history = model.fit(\n",
    "    train_features,\n",
    "    train_labels,\n",
    "    batch_size=BATCH_SIZE,\n",
    "    epochs=20,\n",
    "    verbose=0)"
   ]
  },
  {
   "cell_type": "code",
   "execution_count": null,
   "metadata": {},
   "outputs": [],
   "source": [
    "model = make_model()\n",
    "model.load_weights(initial_weights)\n",
    "careful_bias_history = model.fit(\n",
    "    train_features,\n",
    "    train_labels,\n",
    "    batch_size=BATCH_SIZE,\n",
    "    epochs=20,\n",
    "    verbose=0)"
   ]
  },
  {
   "cell_type": "code",
   "execution_count": null,
   "metadata": {},
   "outputs": [],
   "source": [
    "def plot_loss(history, label, n):\n",
    "    # Use a log scale to show the wide range of values.\n",
    "    plt.semilogy(history.epoch,  history.history['loss'], color=colors[n], label='Train '+label)\n",
    "    plt.xlabel('Epoch')\n",
    "    plt.ylabel('Loss')\n",
    "  \n",
    "    plt.legend()"
   ]
  },
  {
   "cell_type": "code",
   "execution_count": null,
   "metadata": {},
   "outputs": [],
   "source": [
    "plot_loss(zero_bias_history, \"Zero Bias\", 0)\n",
    "plot_loss(careful_bias_history, \"Careful Bias\", 1)"
   ]
  },
  {
   "cell_type": "code",
   "execution_count": null,
   "metadata": {},
   "outputs": [],
   "source": [
    "# 일단 위에무시"
   ]
  },
  {
   "cell_type": "markdown",
   "metadata": {},
   "source": [
    "## 모델 훈련"
   ]
  },
  {
   "cell_type": "code",
   "execution_count": 180,
   "metadata": {},
   "outputs": [
    {
     "name": "stdout",
     "output_type": "stream",
     "text": [
      "Epoch 1/100\n",
      "135246/135246 [==============================] - 2s 17us/step - loss: 0.0813 - tp: 519213.9688 - fp: 87245.5391 - tn: 523340.9688 - fn: 91372.5391 - accuracy: 0.8534 - precision: 0.8558 - recall: 0.8500 - auc: 0.9042 - get_f1: 0.9266 - recall_m: 0.9264 - precision_m: 0.9269 - f1_m: 0.9266\n",
      "WARNING:tensorflow:Early stopping conditioned on metric `val_auc` which is not available. Available metrics are: loss,tp,fp,tn,fn,accuracy,precision,recall,auc,get_f1,recall_m,precision_m,f1_m\n",
      "Epoch 2/100\n",
      "135246/135246 [==============================] - 2s 13us/step - loss: 0.0515 - tp: 646055.5000 - fp: 95650.0312 - tn: 650182.3750 - fn: 99777.0312 - accuracy: 0.8688 - precision: 0.8708 - recall: 0.8660 - auc: 0.9173 - get_f1: 0.9382 - recall_m: 0.9382 - precision_m: 0.9382 - f1_m: 0.9382\n",
      "WARNING:tensorflow:Early stopping conditioned on metric `val_auc` which is not available. Available metrics are: loss,tp,fp,tn,fn,accuracy,precision,recall,auc,get_f1,recall_m,precision_m,f1_m\n",
      "Epoch 3/100\n",
      "135246/135246 [==============================] - 2s 13us/step - loss: 0.0472 - tp: 772993.5625 - fp: 103957.9531 - tn: 777120.5625 - fn: 108084.9531 - accuracy: 0.8795 - precision: 0.8813 - recall: 0.8772 - auc: 0.9278 - get_f1: 0.9386 - recall_m: 0.9386 - precision_m: 0.9386 - f1_m: 0.9386\n",
      "WARNING:tensorflow:Early stopping conditioned on metric `val_auc` which is not available. Available metrics are: loss,tp,fp,tn,fn,accuracy,precision,recall,auc,get_f1,recall_m,precision_m,f1_m\n",
      "Epoch 4/100\n",
      "135246/135246 [==============================] - 2s 13us/step - loss: 0.0454 - tp: 900103.3750 - fp: 112094.2422 - tn: 904230.3125 - fn: 116221.2422 - accuracy: 0.8876 - precision: 0.8892 - recall: 0.8856 - auc: 0.9362 - get_f1: 0.9405 - recall_m: 0.9405 - precision_m: 0.9405 - f1_m: 0.9405\n",
      "WARNING:tensorflow:Early stopping conditioned on metric `val_auc` which is not available. Available metrics are: loss,tp,fp,tn,fn,accuracy,precision,recall,auc,get_f1,recall_m,precision_m,f1_m\n",
      "Epoch 5/100\n",
      "135246/135246 [==============================] - 2s 13us/step - loss: 0.0445 - tp: 1027312.9375 - fp: 120130.6562 - tn: 1031439.8750 - fn: 124257.6562 - accuracy: 0.8938 - precision: 0.8953 - recall: 0.8920 - auc: 0.9425 - get_f1: 0.9410 - recall_m: 0.9410 - precision_m: 0.9410 - f1_m: 0.9410 0s - loss: 0.0444 - tp: 1000332.0000 - fp: 118468.9766 - tn: 1004458.8750 - fn: 122595.9766 - accuracy: 0.8926 - precision: 0.8941 - recall: 0.8908 - auc: 0.9414 - get_f1: 0.9411 - recall_m: 0.9411 - precision_\n",
      "WARNING:tensorflow:Early stopping conditioned on metric `val_auc` which is not available. Available metrics are: loss,tp,fp,tn,fn,accuracy,precision,recall,auc,get_f1,recall_m,precision_m,f1_m\n",
      "Epoch 6/100\n",
      "135246/135246 [==============================] - 2s 13us/step - loss: 0.0439 - tp: 1154591.6250 - fp: 128097.8672 - tn: 1158718.7500 - fn: 132224.8594 - accuracy: 0.8988 - precision: 0.9001 - recall: 0.8972 - auc: 0.9475 - get_f1: 0.9408 - recall_m: 0.9408 - precision_m: 0.9408 - f1_m: 0.9408\n",
      "WARNING:tensorflow:Early stopping conditioned on metric `val_auc` which is not available. Available metrics are: loss,tp,fp,tn,fn,accuracy,precision,recall,auc,get_f1,recall_m,precision_m,f1_m\n",
      "Epoch 7/100\n",
      "135246/135246 [==============================] - 2s 13us/step - loss: 0.0435 - tp: 1281834.1250 - fp: 136101.3438 - tn: 1285961.1250 - fn: 140228.3438 - accuracy: 0.9028 - precision: 0.9040 - recall: 0.9014 - auc: 0.9514 - get_f1: 0.9415 - recall_m: 0.9415 - precision_m: 0.9415 - f1_m: 0.9415 1s - loss: 0.0448 - tp: 1235584.2500 - fp: 133228.8438 - tn: 1239711.1250 - fn: 137355.8438 - accuracy: 0.9015 - precision: 0.9027 - recall: 0.9000 - auc: 0.9501 - get_f1: 0.9404 - recall_m: 0.9\n",
      "WARNING:tensorflow:Early stopping conditioned on metric `val_auc` which is not available. Available metrics are: loss,tp,fp,tn,fn,accuracy,precision,recall,auc,get_f1,recall_m,precision_m,f1_m\n",
      "Epoch 8/100\n",
      "135246/135246 [==============================] - 2s 13us/step - loss: 0.0432 - tp: 1409257.3750 - fp: 143924.0781 - tn: 1413384.2500 - fn: 148051.0781 - accuracy: 0.9062 - precision: 0.9073 - recall: 0.9049 - auc: 0.9547 - get_f1: 0.9415 - recall_m: 0.9415 - precision_m: 0.9415 - f1_m: 0.9415 1s - loss: 0.0424 - tp: 1362050.6250 - fp: 140984.4375 - tn: 1366177.5000 - fn: 145111.4375 - accuracy: 0.9051 - precision: 0.9062 - recall: 0.9037 - auc: 0.9536 - get_f1: 0.9425 - recall_m:\n",
      "WARNING:tensorflow:Early stopping conditioned on metric `val_auc` which is not available. Available metrics are: loss,tp,fp,tn,fn,accuracy,precision,recall,auc,get_f1,recall_m,precision_m,f1_m\n",
      "Epoch 9/100\n",
      "135246/135246 [==============================] - 2s 13us/step - loss: 0.0429 - tp: 1536580.1250 - fp: 151847.5156 - tn: 1540707.0000 - fn: 155974.5156 - accuracy: 0.9090 - precision: 0.9100 - recall: 0.9078 - auc: 0.9574 - get_f1: 0.9419 - recall_m: 0.9419 - precision_m: 0.9419 - f1_m: 0.9419\n",
      "WARNING:tensorflow:Early stopping conditioned on metric `val_auc` which is not available. Available metrics are: loss,tp,fp,tn,fn,accuracy,precision,recall,auc,get_f1,recall_m,precision_m,f1_m\n",
      "Epoch 10/100\n",
      "135246/135246 [==============================] - 2s 13us/step - loss: 0.0427 - tp: 1663966.1250 - fp: 159707.6250 - tn: 1668092.8750 - fn: 163834.6250 - accuracy: 0.9115 - precision: 0.9124 - recall: 0.9104 - auc: 0.9596 - get_f1: 0.9415 - recall_m: 0.9415 - precision_m: 0.9415 - f1_m: 0.9415\n",
      "WARNING:tensorflow:Early stopping conditioned on metric `val_auc` which is not available. Available metrics are: loss,tp,fp,tn,fn,accuracy,precision,recall,auc,get_f1,recall_m,precision_m,f1_m\n",
      "Epoch 11/100\n",
      "135246/135246 [==============================] - 2s 13us/step - loss: 0.0426 - tp: 1791423.3750 - fp: 167496.5469 - tn: 1795550.2500 - fn: 171623.5469 - accuracy: 0.9136 - precision: 0.9145 - recall: 0.9126 - auc: 0.9615 - get_f1: 0.9427 - recall_m: 0.9427 - precision_m: 0.9427 - f1_m: 0.9427 1s - loss: 0.0422 - tp: 1731643.6250 - fp: 163817.4062 - tn: 1735770.6250 - fn: 167944.4062 - accuracy: 0.9127 - precision: 0.9136 - recall: 0.9116 - auc: 0.9607 - get_f1: 0.9419\n",
      "WARNING:tensorflow:Early stopping conditioned on metric `val_auc` which is not available. Available metrics are: loss,tp,fp,tn,fn,accuracy,precision,recall,auc,get_f1,recall_m,precision_m,f1_m\n",
      "Epoch 12/100\n",
      "135246/135246 [==============================] - 2s 13us/step - loss: 0.0425 - tp: 1918915.6250 - fp: 175250.2188 - tn: 1923042.3750 - fn: 179377.2188 - accuracy: 0.9155 - precision: 0.9163 - recall: 0.9145 - auc: 0.9632 - get_f1: 0.9433 - recall_m: 0.9433 - precision_m: 0.9433 - f1_m: 0.9433\n",
      "WARNING:tensorflow:Early stopping conditioned on metric `val_auc` which is not available. Available metrics are: loss,tp,fp,tn,fn,accuracy,precision,recall,auc,get_f1,recall_m,precision_m,f1_m\n",
      "Epoch 13/100\n",
      "135246/135246 [==============================] - 2s 12us/step - loss: 0.0422 - tp: 2046475.2500 - fp: 182936.8125 - tn: 2050601.3750 - fn: 187063.8125 - accuracy: 0.9172 - precision: 0.9179 - recall: 0.9162 - auc: 0.9646 - get_f1: 0.9430 - recall_m: 0.9430 - precision_m: 0.9430 - f1_m: 0.9430\n",
      "WARNING:tensorflow:Early stopping conditioned on metric `val_auc` which is not available. Available metrics are: loss,tp,fp,tn,fn,accuracy,precision,recall,auc,get_f1,recall_m,precision_m,f1_m\n",
      "Epoch 14/100\n",
      "135246/135246 [==============================] - 2s 13us/step - loss: 0.0421 - tp: 2174064.2500 - fp: 190593.2188 - tn: 2178191.2500 - fn: 194720.2188 - accuracy: 0.9187 - precision: 0.9194 - recall: 0.9178 - auc: 0.9659 - get_f1: 0.9435 - recall_m: 0.9435 - precision_m: 0.9435 - f1_m: 0.9435\n",
      "WARNING:tensorflow:Early stopping conditioned on metric `val_auc` which is not available. Available metrics are: loss,tp,fp,tn,fn,accuracy,precision,recall,auc,get_f1,recall_m,precision_m,f1_m\n",
      "Epoch 15/100\n",
      "135246/135246 [==============================] - 2s 13us/step - loss: 0.0419 - tp: 2301600.2500 - fp: 198303.1094 - tn: 2305727.5000 - fn: 202430.1094 - accuracy: 0.9200 - precision: 0.9207 - recall: 0.9192 - auc: 0.9670 - get_f1: 0.9438 - recall_m: 0.9438 - precision_m: 0.9438 - f1_m: 0.9438 0s - loss: 0.0421 - tp: 2267815.5000 - fp: 196277.5000 - tn: 2271942.5000 - fn: 200404.5000 - accuracy: 0.9196 - precision: 0.9203 - recall: 0.9188 - auc: 0.9667 - get_f1: 0.9429 - recall_m: 0.9429 - precis\n",
      "WARNING:tensorflow:Early stopping conditioned on metric `val_auc` which is not available. Available metrics are: loss,tp,fp,tn,fn,accuracy,precision,recall,auc,get_f1,recall_m,precision_m,f1_m\n",
      "Epoch 16/100\n",
      "135246/135246 [==============================] - 2s 12us/step - loss: 0.0418 - tp: 2429215.5000 - fp: 205934.5000 - tn: 2433342.2500 - fn: 210061.5000 - accuracy: 0.9212 - precision: 0.9218 - recall: 0.9204 - auc: 0.9680 - get_f1: 0.9432 - recall_m: 0.9432 - precision_m: 0.9432 - f1_m: 0.9432\n",
      "WARNING:tensorflow:Early stopping conditioned on metric `val_auc` which is not available. Available metrics are: loss,tp,fp,tn,fn,accuracy,precision,recall,auc,get_f1,recall_m,precision_m,f1_m\n",
      "Epoch 17/100\n",
      "135246/135246 [==============================] - 2s 11us/step - loss: 0.0418 - tp: 2556848.0000 - fp: 213547.2500 - tn: 2560975.7500 - fn: 217674.2500 - accuracy: 0.9223 - precision: 0.9229 - recall: 0.9215 - auc: 0.9689 - get_f1: 0.9439 - recall_m: 0.9439 - precision_m: 0.9439 - f1_m: 0.9439\n",
      "WARNING:tensorflow:Early stopping conditioned on metric `val_auc` which is not available. Available metrics are: loss,tp,fp,tn,fn,accuracy,precision,recall,auc,get_f1,recall_m,precision_m,f1_m\n",
      "Epoch 18/100\n",
      "135246/135246 [==============================] - 2s 12us/step - loss: 0.0417 - tp: 2684475.2500 - fp: 221166.5000 - tn: 2688601.7500 - fn: 225293.5000 - accuracy: 0.9233 - precision: 0.9239 - recall: 0.9226 - auc: 0.9697 - get_f1: 0.9442 - recall_m: 0.9442 - precision_m: 0.9442 - f1_m: 0.9442\n",
      "WARNING:tensorflow:Early stopping conditioned on metric `val_auc` which is not available. Available metrics are: loss,tp,fp,tn,fn,accuracy,precision,recall,auc,get_f1,recall_m,precision_m,f1_m\n",
      "Epoch 19/100\n",
      "135246/135246 [==============================] - 2s 13us/step - loss: 0.0416 - tp: 2812154.7500 - fp: 228732.2656 - tn: 2816281.7500 - fn: 232859.2656 - accuracy: 0.9242 - precision: 0.9248 - recall: 0.9235 - auc: 0.9704 - get_f1: 0.9438 - recall_m: 0.9438 - precision_m: 0.9438 - f1_m: 0.9438\n",
      "WARNING:tensorflow:Early stopping conditioned on metric `val_auc` which is not available. Available metrics are: loss,tp,fp,tn,fn,accuracy,precision,recall,auc,get_f1,recall_m,precision_m,f1_m\n",
      "Epoch 20/100\n",
      "135246/135246 [==============================] - 2s 14us/step - loss: 0.0415 - tp: 2939798.0000 - fp: 236335.6875 - tn: 2943925.2500 - fn: 240462.6875 - accuracy: 0.9250 - precision: 0.9256 - recall: 0.9244 - auc: 0.9711 - get_f1: 0.9440 - recall_m: 0.9440 - precision_m: 0.9440 - f1_m: 0.9440\n",
      "WARNING:tensorflow:Early stopping conditioned on metric `val_auc` which is not available. Available metrics are: loss,tp,fp,tn,fn,accuracy,precision,recall,auc,get_f1,recall_m,precision_m,f1_m\n",
      "Epoch 21/100\n",
      "135246/135246 [==============================] - 2s 13us/step - loss: 0.0414 - tp: 3067559.5000 - fp: 243820.5938 - tn: 3071685.7500 - fn: 247947.5938 - accuracy: 0.9258 - precision: 0.9264 - recall: 0.9252 - auc: 0.9717 - get_f1: 0.9444 - recall_m: 0.9444 - precision_m: 0.9444 - f1_m: 0.9444\n",
      "WARNING:tensorflow:Early stopping conditioned on metric `val_auc` which is not available. Available metrics are: loss,tp,fp,tn,fn,accuracy,precision,recall,auc,get_f1,recall_m,precision_m,f1_m\n",
      "Epoch 22/100\n",
      "135246/135246 [==============================] - 2s 13us/step - loss: 0.0414 - tp: 3195202.5000 - fp: 251422.9531 - tn: 3199329.5000 - fn: 255549.9688 - accuracy: 0.9265 - precision: 0.9271 - recall: 0.9259 - auc: 0.9723 - get_f1: 0.9447 - recall_m: 0.9447 - precision_m: 0.9447 - f1_m: 0.9447\n",
      "WARNING:tensorflow:Early stopping conditioned on metric `val_auc` which is not available. Available metrics are: loss,tp,fp,tn,fn,accuracy,precision,recall,auc,get_f1,recall_m,precision_m,f1_m\n",
      "Epoch 23/100\n",
      "135246/135246 [==============================] - 2s 13us/step - loss: 0.0414 - tp: 3322923.5000 - fp: 258948.2969 - tn: 3327050.7500 - fn: 263075.2812 - accuracy: 0.9272 - precision: 0.9277 - recall: 0.9266 - auc: 0.9728 - get_f1: 0.9450 - recall_m: 0.9450 - precision_m: 0.9450 - f1_m: 0.9450\n",
      "WARNING:tensorflow:Early stopping conditioned on metric `val_auc` which is not available. Available metrics are: loss,tp,fp,tn,fn,accuracy,precision,recall,auc,get_f1,recall_m,precision_m,f1_m\n",
      "Epoch 24/100\n",
      "135246/135246 [==============================] - 2s 13us/step - loss: 0.0412 - tp: 3450624.7500 - fp: 266493.4375 - tn: 3454750.7500 - fn: 270620.4062 - accuracy: 0.9278 - precision: 0.9283 - recall: 0.9273 - auc: 0.9732 - get_f1: 0.9452 - recall_m: 0.9452 - precision_m: 0.9452 - f1_m: 0.9452\n",
      "WARNING:tensorflow:Early stopping conditioned on metric `val_auc` which is not available. Available metrics are: loss,tp,fp,tn,fn,accuracy,precision,recall,auc,get_f1,recall_m,precision_m,f1_m\n",
      "Epoch 25/100\n",
      "135246/135246 [==============================] - 2s 13us/step - loss: 0.0412 - tp: 3578401.0000 - fp: 273963.0312 - tn: 3582527.5000 - fn: 278090.0938 - accuracy: 0.9284 - precision: 0.9289 - recall: 0.9279 - auc: 0.9737 - get_f1: 0.9447 - recall_m: 0.9447 - precision_m: 0.9447 - f1_m: 0.9447\n",
      "WARNING:tensorflow:Early stopping conditioned on metric `val_auc` which is not available. Available metrics are: loss,tp,fp,tn,fn,accuracy,precision,recall,auc,get_f1,recall_m,precision_m,f1_m\n",
      "Epoch 26/100\n",
      "135246/135246 [==============================] - 2s 16us/step - loss: 0.0412 - tp: 3706120.0000 - fp: 281490.1250 - tn: 3710247.2500 - fn: 285617.0625 - accuracy: 0.9290 - precision: 0.9294 - recall: 0.9284 - auc: 0.9741 - get_f1: 0.9439 - recall_m: 0.9439 - precision_m: 0.9439 - f1_m: 0.9439\n",
      "WARNING:tensorflow:Early stopping conditioned on metric `val_auc` which is not available. Available metrics are: loss,tp,fp,tn,fn,accuracy,precision,recall,auc,get_f1,recall_m,precision_m,f1_m\n",
      "Epoch 27/100\n",
      "135246/135246 [==============================] - 2s 13us/step - loss: 0.0411 - tp: 3833899.7500 - fp: 288956.0625 - tn: 3838026.5000 - fn: 293083.0000 - accuracy: 0.9295 - precision: 0.9299 - recall: 0.9290 - auc: 0.9745 - get_f1: 0.9448 - recall_m: 0.9448 - precision_m: 0.9448 - f1_m: 0.9448\n",
      "WARNING:tensorflow:Early stopping conditioned on metric `val_auc` which is not available. Available metrics are: loss,tp,fp,tn,fn,accuracy,precision,recall,auc,get_f1,recall_m,precision_m,f1_m\n",
      "Epoch 28/100\n",
      "135246/135246 [==============================] - 2s 13us/step - loss: 0.0412 - tp: 3961667.2500 - fp: 296433.8125 - tn: 3965794.7500 - fn: 300560.8438 - accuracy: 0.9300 - precision: 0.9304 - recall: 0.9295 - auc: 0.9749 - get_f1: 0.9451 - recall_m: 0.9451 - precision_m: 0.9451 - f1_m: 0.9451\n",
      "WARNING:tensorflow:Early stopping conditioned on metric `val_auc` which is not available. Available metrics are: loss,tp,fp,tn,fn,accuracy,precision,recall,auc,get_f1,recall_m,precision_m,f1_m\n",
      "Epoch 29/100\n",
      "135246/135246 [==============================] - 2s 13us/step - loss: 0.0411 - tp: 4089441.0000 - fp: 303906.0938 - tn: 4093568.5000 - fn: 308033.0625 - accuracy: 0.9304 - precision: 0.9308 - recall: 0.9300 - auc: 0.9752 - get_f1: 0.9448 - recall_m: 0.9448 - precision_m: 0.9448 - f1_m: 0.9448\n",
      "WARNING:tensorflow:Early stopping conditioned on metric `val_auc` which is not available. Available metrics are: loss,tp,fp,tn,fn,accuracy,precision,recall,auc,get_f1,recall_m,precision_m,f1_m\n",
      "Epoch 30/100\n",
      "135246/135246 [==============================] - 2s 13us/step - loss: 0.0411 - tp: 4217212.5000 - fp: 311380.5938 - tn: 4221340.0000 - fn: 315507.6562 - accuracy: 0.9308 - precision: 0.9312 - recall: 0.9304 - auc: 0.9755 - get_f1: 0.9450 - recall_m: 0.9450 - precision_m: 0.9450 - f1_m: 0.9450\n",
      "WARNING:tensorflow:Early stopping conditioned on metric `val_auc` which is not available. Available metrics are: loss,tp,fp,tn,fn,accuracy,precision,recall,auc,get_f1,recall_m,precision_m,f1_m\n"
     ]
    },
    {
     "name": "stdout",
     "output_type": "stream",
     "text": [
      "Epoch 31/100\n",
      "135246/135246 [==============================] - 2s 12us/step - loss: 0.0411 - tp: 4344938.5000 - fp: 318902.2188 - tn: 4349064.5000 - fn: 323029.1562 - accuracy: 0.9312 - precision: 0.9316 - recall: 0.9308 - auc: 0.9758 - get_f1: 0.9448 - recall_m: 0.9448 - precision_m: 0.9448 - f1_m: 0.9448\n",
      "WARNING:tensorflow:Early stopping conditioned on metric `val_auc` which is not available. Available metrics are: loss,tp,fp,tn,fn,accuracy,precision,recall,auc,get_f1,recall_m,precision_m,f1_m\n",
      "Epoch 32/100\n",
      "135246/135246 [==============================] - 2s 15us/step - loss: 0.0409 - tp: 4472694.0000 - fp: 326390.9375 - tn: 4476821.5000 - fn: 330517.8750 - accuracy: 0.9316 - precision: 0.9320 - recall: 0.9312 - auc: 0.9761 - get_f1: 0.9436 - recall_m: 0.9436 - precision_m: 0.9436 - f1_m: 0.9436\n",
      "WARNING:tensorflow:Early stopping conditioned on metric `val_auc` which is not available. Available metrics are: loss,tp,fp,tn,fn,accuracy,precision,recall,auc,get_f1,recall_m,precision_m,f1_m\n",
      "Epoch 33/100\n",
      "135246/135246 [==============================] - 2s 13us/step - loss: 0.0410 - tp: 4600460.5000 - fp: 333871.8750 - tn: 4604587.0000 - fn: 337998.8438 - accuracy: 0.9320 - precision: 0.9323 - recall: 0.9316 - auc: 0.9764 - get_f1: 0.9452 - recall_m: 0.9452 - precision_m: 0.9452 - f1_m: 0.9452\n",
      "WARNING:tensorflow:Early stopping conditioned on metric `val_auc` which is not available. Available metrics are: loss,tp,fp,tn,fn,accuracy,precision,recall,auc,get_f1,recall_m,precision_m,f1_m\n",
      "Epoch 34/100\n",
      "135246/135246 [==============================] - 2s 12us/step - loss: 0.0408 - tp: 4728288.5000 - fp: 341288.4062 - tn: 4732415.5000 - fn: 345415.4062 - accuracy: 0.9323 - precision: 0.9327 - recall: 0.9319 - auc: 0.9766 - get_f1: 0.9449 - recall_m: 0.9449 - precision_m: 0.9449 - f1_m: 0.9449\n",
      "WARNING:tensorflow:Early stopping conditioned on metric `val_auc` which is not available. Available metrics are: loss,tp,fp,tn,fn,accuracy,precision,recall,auc,get_f1,recall_m,precision_m,f1_m\n",
      "Epoch 35/100\n",
      "135246/135246 [==============================] - 2s 13us/step - loss: 0.0408 - tp: 4856113.0000 - fp: 348710.9375 - tn: 4860240.5000 - fn: 352837.9375 - accuracy: 0.9327 - precision: 0.9330 - recall: 0.9323 - auc: 0.9769 - get_f1: 0.9445 - recall_m: 0.9445 - precision_m: 0.9445 - f1_m: 0.9445\n",
      "WARNING:tensorflow:Early stopping conditioned on metric `val_auc` which is not available. Available metrics are: loss,tp,fp,tn,fn,accuracy,precision,recall,auc,get_f1,recall_m,precision_m,f1_m\n",
      "Epoch 36/100\n",
      "135246/135246 [==============================] - 2s 12us/step - loss: 0.0409 - tp: 4983897.0000 - fp: 356173.2812 - tn: 4988023.5000 - fn: 360300.3125 - accuracy: 0.9330 - precision: 0.9333 - recall: 0.9326 - auc: 0.9771 - get_f1: 0.9446 - recall_m: 0.9446 - precision_m: 0.9446 - f1_m: 0.9446 0s - loss: 0.0407 - tp: 4967481.5000 - fp: 355210.2500 - tn: 4971608.0000 - fn: 359337.1875 - accuracy: 0.9329 - precision: 0.9333 - recall: 0.9325 - auc: 0.9771 - get_f1: 0.9451 - recall_m: 0.9451 - precision_m: 0.945\n",
      "WARNING:tensorflow:Early stopping conditioned on metric `val_auc` which is not available. Available metrics are: loss,tp,fp,tn,fn,accuracy,precision,recall,auc,get_f1,recall_m,precision_m,f1_m\n",
      "Epoch 37/100\n",
      "135246/135246 [==============================] - 2s 13us/step - loss: 0.0407 - tp: 5111680.0000 - fp: 363636.5312 - tn: 5115806.0000 - fn: 367763.6875 - accuracy: 0.9333 - precision: 0.9336 - recall: 0.9329 - auc: 0.9773 - get_f1: 0.9450 - recall_m: 0.9450 - precision_m: 0.9450 - f1_m: 0.9450\n",
      "WARNING:tensorflow:Early stopping conditioned on metric `val_auc` which is not available. Available metrics are: loss,tp,fp,tn,fn,accuracy,precision,recall,auc,get_f1,recall_m,precision_m,f1_m\n",
      "Epoch 38/100\n",
      "135246/135246 [==============================] - 2s 16us/step - loss: 0.0407 - tp: 5239477.5000 - fp: 371083.8125 - tn: 5243603.5000 - fn: 375210.7500 - accuracy: 0.9335 - precision: 0.9339 - recall: 0.9332 - auc: 0.9775 - get_f1: 0.9451 - recall_m: 0.9451 - precision_m: 0.9451 - f1_m: 0.9451\n",
      "WARNING:tensorflow:Early stopping conditioned on metric `val_auc` which is not available. Available metrics are: loss,tp,fp,tn,fn,accuracy,precision,recall,auc,get_f1,recall_m,precision_m,f1_m\n",
      "Epoch 39/100\n",
      "135246/135246 [==============================] - 2s 14us/step - loss: 0.0408 - tp: 5367256.0000 - fp: 378552.1250 - tn: 5371382.5000 - fn: 382679.1562 - accuracy: 0.9338 - precision: 0.9341 - recall: 0.9334 - auc: 0.9777 - get_f1: 0.9449 - recall_m: 0.9449 - precision_m: 0.9449 - f1_m: 0.9449 0s - loss: 0.0413 - tp: 5340217.5000 - fp: 376948.3438 - tn: 5344344.0000 - fn: 381075.3438 - accuracy: 0.9338 - precision: 0.9341 - recall: 0.9334 - auc: 0.9777 - get_f1: 0.9441 - recall_m: 0.9441 - precision_\n",
      "WARNING:tensorflow:Early stopping conditioned on metric `val_auc` which is not available. Available metrics are: loss,tp,fp,tn,fn,accuracy,precision,recall,auc,get_f1,recall_m,precision_m,f1_m\n",
      "Epoch 40/100\n",
      "135246/135246 [==============================] - 2s 13us/step - loss: 0.0407 - tp: 5495051.5000 - fp: 386002.3750 - tn: 5499179.0000 - fn: 390129.5000 - accuracy: 0.9341 - precision: 0.9344 - recall: 0.9337 - auc: 0.9779 - get_f1: 0.9454 - recall_m: 0.9454 - precision_m: 0.9454 - f1_m: 0.9454\n",
      "WARNING:tensorflow:Early stopping conditioned on metric `val_auc` which is not available. Available metrics are: loss,tp,fp,tn,fn,accuracy,precision,recall,auc,get_f1,recall_m,precision_m,f1_m\n",
      "Epoch 41/100\n",
      "135246/135246 [==============================] - 2s 15us/step - loss: 0.0406 - tp: 5622956.0000 - fp: 393343.4375 - tn: 5627082.5000 - fn: 397470.4375 - accuracy: 0.9343 - precision: 0.9346 - recall: 0.9340 - auc: 0.9781 - get_f1: 0.9454 - recall_m: 0.9454 - precision_m: 0.9454 - f1_m: 0.9454\n",
      "WARNING:tensorflow:Early stopping conditioned on metric `val_auc` which is not available. Available metrics are: loss,tp,fp,tn,fn,accuracy,precision,recall,auc,get_f1,recall_m,precision_m,f1_m\n",
      "Epoch 42/100\n",
      "135246/135246 [==============================] - 2s 15us/step - loss: 0.0406 - tp: 5750769.5000 - fp: 400776.1875 - tn: 5754896.0000 - fn: 404903.0938 - accuracy: 0.9346 - precision: 0.9348 - recall: 0.9342 - auc: 0.9782 - get_f1: 0.9447 - recall_m: 0.9447 - precision_m: 0.9447 - f1_m: 0.9447\n",
      "WARNING:tensorflow:Early stopping conditioned on metric `val_auc` which is not available. Available metrics are: loss,tp,fp,tn,fn,accuracy,precision,recall,auc,get_f1,recall_m,precision_m,f1_m\n",
      "Epoch 43/100\n",
      "135246/135246 [==============================] - 2s 14us/step - loss: 0.0406 - tp: 5878572.5000 - fp: 408219.6562 - tn: 5882698.5000 - fn: 412346.6875 - accuracy: 0.9348 - precision: 0.9351 - recall: 0.9345 - auc: 0.9784 - get_f1: 0.9452 - recall_m: 0.9452 - precision_m: 0.9452 - f1_m: 0.9452\n",
      "WARNING:tensorflow:Early stopping conditioned on metric `val_auc` which is not available. Available metrics are: loss,tp,fp,tn,fn,accuracy,precision,recall,auc,get_f1,recall_m,precision_m,f1_m\n",
      "Epoch 44/100\n",
      "135246/135246 [==============================] - 2s 15us/step - loss: 0.0405 - tp: 6006406.5000 - fp: 415631.6875 - tn: 6010533.5000 - fn: 419758.6250 - accuracy: 0.9350 - precision: 0.9353 - recall: 0.9347 - auc: 0.9786 - get_f1: 0.9452 - recall_m: 0.9452 - precision_m: 0.9452 - f1_m: 0.9452\n",
      "WARNING:tensorflow:Early stopping conditioned on metric `val_auc` which is not available. Available metrics are: loss,tp,fp,tn,fn,accuracy,precision,recall,auc,get_f1,recall_m,precision_m,f1_m\n",
      "Epoch 45/100\n",
      "135246/135246 [==============================] - 2s 13us/step - loss: 0.0405 - tp: 6134219.5000 - fp: 423063.3438 - tn: 6138346.0000 - fn: 427190.3750 - accuracy: 0.9352 - precision: 0.9355 - recall: 0.9349 - auc: 0.9787 - get_f1: 0.9448 - recall_m: 0.9448 - precision_m: 0.9448 - f1_m: 0.9448\n",
      "WARNING:tensorflow:Early stopping conditioned on metric `val_auc` which is not available. Available metrics are: loss,tp,fp,tn,fn,accuracy,precision,recall,auc,get_f1,recall_m,precision_m,f1_m\n",
      "Epoch 46/100\n",
      "135246/135246 [==============================] - 2s 13us/step - loss: 0.0404 - tp: 6262124.5000 - fp: 430405.7188 - tn: 6266252.0000 - fn: 434532.7188 - accuracy: 0.9354 - precision: 0.9357 - recall: 0.9351 - auc: 0.9789 - get_f1: 0.9450 - recall_m: 0.9450 - precision_m: 0.9450 - f1_m: 0.9450\n",
      "WARNING:tensorflow:Early stopping conditioned on metric `val_auc` which is not available. Available metrics are: loss,tp,fp,tn,fn,accuracy,precision,recall,auc,get_f1,recall_m,precision_m,f1_m\n",
      "Epoch 47/100\n",
      "135246/135246 [==============================] - 2s 15us/step - loss: 0.0405 - tp: 6389961.5000 - fp: 437814.1875 - tn: 6394088.5000 - fn: 441941.1875 - accuracy: 0.9356 - precision: 0.9359 - recall: 0.9353 - auc: 0.9790 - get_f1: 0.9451 - recall_m: 0.9451 - precision_m: 0.9451 - f1_m: 0.9451\n",
      "WARNING:tensorflow:Early stopping conditioned on metric `val_auc` which is not available. Available metrics are: loss,tp,fp,tn,fn,accuracy,precision,recall,auc,get_f1,recall_m,precision_m,f1_m\n",
      "Epoch 48/100\n",
      "135246/135246 [==============================] - 2s 13us/step - loss: 0.0405 - tp: 6517727.5000 - fp: 445293.0000 - tn: 6521854.5000 - fn: 449420.1250 - accuracy: 0.9358 - precision: 0.9360 - recall: 0.9355 - auc: 0.9791 - get_f1: 0.9450 - recall_m: 0.9450 - precision_m: 0.9450 - f1_m: 0.9450\n",
      "WARNING:tensorflow:Early stopping conditioned on metric `val_auc` which is not available. Available metrics are: loss,tp,fp,tn,fn,accuracy,precision,recall,auc,get_f1,recall_m,precision_m,f1_m\n",
      "Epoch 49/100\n",
      "135246/135246 [==============================] - 2s 14us/step - loss: 0.0404 - tp: 6645590.5000 - fp: 452677.2500 - tn: 6649717.5000 - fn: 456804.3125 - accuracy: 0.9360 - precision: 0.9362 - recall: 0.9357 - auc: 0.9793 - get_f1: 0.9453 - recall_m: 0.9453 - precision_m: 0.9453 - f1_m: 0.9453\n",
      "WARNING:tensorflow:Early stopping conditioned on metric `val_auc` which is not available. Available metrics are: loss,tp,fp,tn,fn,accuracy,precision,recall,auc,get_f1,recall_m,precision_m,f1_m\n",
      "Epoch 50/100\n",
      "135246/135246 [==============================] - ETA: 0s - loss: 0.0403 - tp: 6771527.0000 - fp: 459969.2188 - tn: 6775653.0000 - fn: 464096.2500 - accuracy: 0.9361 - precision: 0.9364 - recall: 0.9359 - auc: 0.9794 - get_f1: 0.9454 - recall_m: 0.9454 - precision_m: 0.9454 - f1_m: 0.94 - 2s 13us/step - loss: 0.0403 - tp: 6773435.5000 - fp: 460078.9375 - tn: 6777562.0000 - fn: 464205.9062 - accuracy: 0.9361 - precision: 0.9364 - recall: 0.9359 - auc: 0.9794 - get_f1: 0.9454 - recall_m: 0.9454 - precision_m: 0.9454 - f1_m: 0.9454\n",
      "WARNING:tensorflow:Early stopping conditioned on metric `val_auc` which is not available. Available metrics are: loss,tp,fp,tn,fn,accuracy,precision,recall,auc,get_f1,recall_m,precision_m,f1_m\n",
      "Epoch 51/100\n",
      "135246/135246 [==============================] - 2s 16us/step - loss: 0.0404 - tp: 6901304.5000 - fp: 467454.8438 - tn: 6905432.5000 - fn: 471581.8438 - accuracy: 0.9363 - precision: 0.9366 - recall: 0.9360 - auc: 0.9795 - get_f1: 0.9450 - recall_m: 0.9450 - precision_m: 0.9450 - f1_m: 0.9450\n",
      "WARNING:tensorflow:Early stopping conditioned on metric `val_auc` which is not available. Available metrics are: loss,tp,fp,tn,fn,accuracy,precision,recall,auc,get_f1,recall_m,precision_m,f1_m\n",
      "Epoch 52/100\n",
      "135246/135246 [==============================] - 2s 15us/step - loss: 0.0403 - tp: 7029185.5000 - fp: 474821.0000 - tn: 7033312.0000 - fn: 478948.0000 - accuracy: 0.9365 - precision: 0.9367 - recall: 0.9362 - auc: 0.9796 - get_f1: 0.9449 - recall_m: 0.9449 - precision_m: 0.9449 - f1_m: 0.9449\n",
      "WARNING:tensorflow:Early stopping conditioned on metric `val_auc` which is not available. Available metrics are: loss,tp,fp,tn,fn,accuracy,precision,recall,auc,get_f1,recall_m,precision_m,f1_m\n",
      "Epoch 53/100\n",
      "135246/135246 [==============================] - 2s 13us/step - loss: 0.0404 - tp: 7157012.5000 - fp: 482239.5938 - tn: 7161140.0000 - fn: 486366.6250 - accuracy: 0.9366 - precision: 0.9369 - recall: 0.9364 - auc: 0.9798 - get_f1: 0.9450 - recall_m: 0.9450 - precision_m: 0.9450 - f1_m: 0.9450\n",
      "WARNING:tensorflow:Early stopping conditioned on metric `val_auc` which is not available. Available metrics are: loss,tp,fp,tn,fn,accuracy,precision,recall,auc,get_f1,recall_m,precision_m,f1_m\n",
      "Epoch 54/100\n",
      "135246/135246 [==============================] - 2s 14us/step - loss: 0.0402 - tp: 7284840.5000 - fp: 489658.2812 - tn: 7288968.0000 - fn: 493785.2812 - accuracy: 0.9368 - precision: 0.9370 - recall: 0.9365 - auc: 0.9799 - get_f1: 0.9459 - recall_m: 0.9459 - precision_m: 0.9459 - f1_m: 0.9459\n",
      "WARNING:tensorflow:Early stopping conditioned on metric `val_auc` which is not available. Available metrics are: loss,tp,fp,tn,fn,accuracy,precision,recall,auc,get_f1,recall_m,precision_m,f1_m\n",
      "Epoch 55/100\n",
      "135246/135246 [==============================] - 2s 13us/step - loss: 0.0402 - tp: 7412687.0000 - fp: 497057.0938 - tn: 7416813.0000 - fn: 501184.3125 - accuracy: 0.9369 - precision: 0.9372 - recall: 0.9367 - auc: 0.9800 - get_f1: 0.9456 - recall_m: 0.9456 - precision_m: 0.9456 - f1_m: 0.9456\n",
      "WARNING:tensorflow:Early stopping conditioned on metric `val_auc` which is not available. Available metrics are: loss,tp,fp,tn,fn,accuracy,precision,recall,auc,get_f1,recall_m,precision_m,f1_m\n",
      "Epoch 56/100\n",
      "135246/135246 [==============================] - 2s 13us/step - loss: 0.0402 - tp: 7540557.5000 - fp: 504432.0000 - tn: 7544683.5000 - fn: 508558.9375 - accuracy: 0.9371 - precision: 0.9373 - recall: 0.9368 - auc: 0.9801 - get_f1: 0.9455 - recall_m: 0.9455 - precision_m: 0.9455 - f1_m: 0.9455\n",
      "WARNING:tensorflow:Early stopping conditioned on metric `val_auc` which is not available. Available metrics are: loss,tp,fp,tn,fn,accuracy,precision,recall,auc,get_f1,recall_m,precision_m,f1_m\n",
      "Epoch 57/100\n",
      "135246/135246 [==============================] - 2s 14us/step - loss: 0.0402 - tp: 7668430.5000 - fp: 511806.0938 - tn: 7672558.0000 - fn: 515933.1250 - accuracy: 0.9372 - precision: 0.9374 - recall: 0.9370 - auc: 0.9802 - get_f1: 0.9451 - recall_m: 0.9451 - precision_m: 0.9451 - f1_m: 0.9451\n",
      "WARNING:tensorflow:Early stopping conditioned on metric `val_auc` which is not available. Available metrics are: loss,tp,fp,tn,fn,accuracy,precision,recall,auc,get_f1,recall_m,precision_m,f1_m\n",
      "Epoch 58/100\n",
      "135246/135246 [==============================] - 2s 14us/step - loss: 0.0401 - tp: 7796326.5000 - fp: 519153.6562 - tn: 7800453.5000 - fn: 523280.5938 - accuracy: 0.9374 - precision: 0.9376 - recall: 0.9371 - auc: 0.9803 - get_f1: 0.9461 - recall_m: 0.9461 - precision_m: 0.9461 - f1_m: 0.9461\n",
      "WARNING:tensorflow:Early stopping conditioned on metric `val_auc` which is not available. Available metrics are: loss,tp,fp,tn,fn,accuracy,precision,recall,auc,get_f1,recall_m,precision_m,f1_m\n",
      "Epoch 59/100\n",
      "135246/135246 [==============================] - 2s 13us/step - loss: 0.0400 - tp: 7924247.5000 - fp: 526478.3750 - tn: 7928375.0000 - fn: 530605.4375 - accuracy: 0.9375 - precision: 0.9377 - recall: 0.9372 - auc: 0.9804 - get_f1: 0.9458 - recall_m: 0.9458 - precision_m: 0.9458 - f1_m: 0.9458\n",
      "WARNING:tensorflow:Early stopping conditioned on metric `val_auc` which is not available. Available metrics are: loss,tp,fp,tn,fn,accuracy,precision,recall,auc,get_f1,recall_m,precision_m,f1_m\n",
      "Epoch 60/100\n",
      "135246/135246 [==============================] - 2s 13us/step - loss: 0.0401 - tp: 8052082.5000 - fp: 533890.3125 - tn: 8056210.0000 - fn: 538017.2500 - accuracy: 0.9376 - precision: 0.9378 - recall: 0.9374 - auc: 0.9805 - get_f1: 0.9455 - recall_m: 0.9455 - precision_m: 0.9455 - f1_m: 0.9455\n",
      "WARNING:tensorflow:Early stopping conditioned on metric `val_auc` which is not available. Available metrics are: loss,tp,fp,tn,fn,accuracy,precision,recall,auc,get_f1,recall_m,precision_m,f1_m\n",
      "Epoch 61/100\n",
      "135246/135246 [==============================] - 2s 14us/step - loss: 0.0401 - tp: 8180017.5000 - fp: 541202.1250 - tn: 8184145.0000 - fn: 545329.0000 - accuracy: 0.9377 - precision: 0.9379 - recall: 0.9375 - auc: 0.9805 - get_f1: 0.9459 - recall_m: 0.9459 - precision_m: 0.9459 - f1_m: 0.9459\n",
      "WARNING:tensorflow:Early stopping conditioned on metric `val_auc` which is not available. Available metrics are: loss,tp,fp,tn,fn,accuracy,precision,recall,auc,get_f1,recall_m,precision_m,f1_m\n"
     ]
    },
    {
     "name": "stdout",
     "output_type": "stream",
     "text": [
      "Epoch 62/100\n",
      "135246/135246 [==============================] - 2s 13us/step - loss: 0.0400 - tp: 8307897.5000 - fp: 548567.8750 - tn: 8312024.0000 - fn: 552694.8125 - accuracy: 0.9379 - precision: 0.9381 - recall: 0.9376 - auc: 0.9806 - get_f1: 0.9465 - recall_m: 0.9465 - precision_m: 0.9465 - f1_m: 0.9465 1s - loss: 0.0395 - tp: 8260467.5000 - fp: 545850.8750 - tn: 8264595.5000 - fn: 549977.8750 - accuracy: 0.9378 - precision: 0.9380 - recall: 0.9376 - auc: 0.9806 - get_f1: 0.9463 - recall_m: 0\n",
      "WARNING:tensorflow:Early stopping conditioned on metric `val_auc` which is not available. Available metrics are: loss,tp,fp,tn,fn,accuracy,precision,recall,auc,get_f1,recall_m,precision_m,f1_m\n",
      "Epoch 63/100\n",
      "135246/135246 [==============================] - 2s 14us/step - loss: 0.0399 - tp: 8435761.0000 - fp: 555952.0000 - tn: 8439886.0000 - fn: 560078.9375 - accuracy: 0.9380 - precision: 0.9382 - recall: 0.9377 - auc: 0.9807 - get_f1: 0.9464 - recall_m: 0.9464 - precision_m: 0.9464 - f1_m: 0.9464\n",
      "WARNING:tensorflow:Early stopping conditioned on metric `val_auc` which is not available. Available metrics are: loss,tp,fp,tn,fn,accuracy,precision,recall,auc,get_f1,recall_m,precision_m,f1_m\n",
      "Epoch 64/100\n",
      "135246/135246 [==============================] - 2s 13us/step - loss: 0.0401 - tp: 8563710.0000 - fp: 563247.1250 - tn: 8567837.0000 - fn: 567374.0625 - accuracy: 0.9381 - precision: 0.9383 - recall: 0.9379 - auc: 0.9808 - get_f1: 0.9454 - recall_m: 0.9454 - precision_m: 0.9454 - f1_m: 0.9454\n",
      "WARNING:tensorflow:Early stopping conditioned on metric `val_auc` which is not available. Available metrics are: loss,tp,fp,tn,fn,accuracy,precision,recall,auc,get_f1,recall_m,precision_m,f1_m\n",
      "Epoch 65/100\n",
      "135246/135246 [==============================] - 2s 13us/step - loss: 0.0400 - tp: 8691659.0000 - fp: 570544.6250 - tn: 8695786.0000 - fn: 574671.5000 - accuracy: 0.9382 - precision: 0.9384 - recall: 0.9380 - auc: 0.9809 - get_f1: 0.9451 - recall_m: 0.9451 - precision_m: 0.9451 - f1_m: 0.9451\n",
      "WARNING:tensorflow:Early stopping conditioned on metric `val_auc` which is not available. Available metrics are: loss,tp,fp,tn,fn,accuracy,precision,recall,auc,get_f1,recall_m,precision_m,f1_m\n",
      "Epoch 66/100\n",
      "135246/135246 [==============================] - 2s 13us/step - loss: 0.0400 - tp: 8819510.0000 - fp: 577938.2500 - tn: 8823638.0000 - fn: 582065.3750 - accuracy: 0.9383 - precision: 0.9385 - recall: 0.9381 - auc: 0.9810 - get_f1: 0.9458 - recall_m: 0.9458 - precision_m: 0.9458 - f1_m: 0.9458\n",
      "WARNING:tensorflow:Early stopping conditioned on metric `val_auc` which is not available. Available metrics are: loss,tp,fp,tn,fn,accuracy,precision,recall,auc,get_f1,recall_m,precision_m,f1_m\n",
      "Epoch 67/100\n",
      "135246/135246 [==============================] - 2s 13us/step - loss: 0.0399 - tp: 8947422.0000 - fp: 585274.8750 - tn: 8951548.0000 - fn: 589401.8750 - accuracy: 0.9384 - precision: 0.9386 - recall: 0.9382 - auc: 0.9810 - get_f1: 0.9463 - recall_m: 0.9463 - precision_m: 0.9463 - f1_m: 0.9463\n",
      "WARNING:tensorflow:Early stopping conditioned on metric `val_auc` which is not available. Available metrics are: loss,tp,fp,tn,fn,accuracy,precision,recall,auc,get_f1,recall_m,precision_m,f1_m\n",
      "Epoch 68/100\n",
      "135246/135246 [==============================] - 2s 13us/step - loss: 0.0399 - tp: 9075363.0000 - fp: 592578.6875 - tn: 9079491.0000 - fn: 596705.8750 - accuracy: 0.9385 - precision: 0.9387 - recall: 0.9383 - auc: 0.9811 - get_f1: 0.9461 - recall_m: 0.9461 - precision_m: 0.9461 - f1_m: 0.9461\n",
      "WARNING:tensorflow:Early stopping conditioned on metric `val_auc` which is not available. Available metrics are: loss,tp,fp,tn,fn,accuracy,precision,recall,auc,get_f1,recall_m,precision_m,f1_m\n",
      "Epoch 69/100\n",
      "135246/135246 [==============================] - 2s 13us/step - loss: 0.0398 - tp: 9203218.0000 - fp: 599968.4375 - tn: 9207347.0000 - fn: 604095.5000 - accuracy: 0.9386 - precision: 0.9388 - recall: 0.9384 - auc: 0.9812 - get_f1: 0.9461 - recall_m: 0.9461 - precision_m: 0.9461 - f1_m: 0.9461\n",
      "WARNING:tensorflow:Early stopping conditioned on metric `val_auc` which is not available. Available metrics are: loss,tp,fp,tn,fn,accuracy,precision,recall,auc,get_f1,recall_m,precision_m,f1_m\n",
      "Epoch 70/100\n",
      "135246/135246 [==============================] - 2s 13us/step - loss: 0.0398 - tp: 9331170.0000 - fp: 607260.8750 - tn: 9335299.0000 - fn: 611387.7500 - accuracy: 0.9387 - precision: 0.9389 - recall: 0.9385 - auc: 0.9812 - get_f1: 0.9462 - recall_m: 0.9462 - precision_m: 0.9462 - f1_m: 0.9462\n",
      "WARNING:tensorflow:Early stopping conditioned on metric `val_auc` which is not available. Available metrics are: loss,tp,fp,tn,fn,accuracy,precision,recall,auc,get_f1,recall_m,precision_m,f1_m\n",
      "Epoch 71/100\n",
      "135246/135246 [==============================] - 2s 13us/step - loss: 0.0398 - tp: 9459083.0000 - fp: 614595.5000 - tn: 9463209.0000 - fn: 618722.6250 - accuracy: 0.9388 - precision: 0.9390 - recall: 0.9386 - auc: 0.9813 - get_f1: 0.9459 - recall_m: 0.9459 - precision_m: 0.9459 - f1_m: 0.9459\n",
      "WARNING:tensorflow:Early stopping conditioned on metric `val_auc` which is not available. Available metrics are: loss,tp,fp,tn,fn,accuracy,precision,recall,auc,get_f1,recall_m,precision_m,f1_m\n",
      "Epoch 72/100\n",
      "135246/135246 [==============================] - 2s 13us/step - loss: 0.0399 - tp: 9586958.0000 - fp: 621967.6250 - tn: 9591087.0000 - fn: 626094.8125 - accuracy: 0.9389 - precision: 0.9391 - recall: 0.9387 - auc: 0.9814 - get_f1: 0.9463 - recall_m: 0.9463 - precision_m: 0.9463 - f1_m: 0.9463\n",
      "WARNING:tensorflow:Early stopping conditioned on metric `val_auc` which is not available. Available metrics are: loss,tp,fp,tn,fn,accuracy,precision,recall,auc,get_f1,recall_m,precision_m,f1_m\n",
      "Epoch 73/100\n",
      "135246/135246 [==============================] - 2s 13us/step - loss: 0.0398 - tp: 9714857.0000 - fp: 629314.3125 - tn: 9718984.0000 - fn: 633441.4375 - accuracy: 0.9390 - precision: 0.9392 - recall: 0.9388 - auc: 0.9814 - get_f1: 0.9456 - recall_m: 0.9456 - precision_m: 0.9456 - f1_m: 0.9456\n",
      "WARNING:tensorflow:Early stopping conditioned on metric `val_auc` which is not available. Available metrics are: loss,tp,fp,tn,fn,accuracy,precision,recall,auc,get_f1,recall_m,precision_m,f1_m\n",
      "Epoch 74/100\n",
      "135246/135246 [==============================] - 2s 13us/step - loss: 0.0399 - tp: 9842796.0000 - fp: 636621.8125 - tn: 9846922.0000 - fn: 640748.6875 - accuracy: 0.9391 - precision: 0.9393 - recall: 0.9389 - auc: 0.9815 - get_f1: 0.9453 - recall_m: 0.9453 - precision_m: 0.9453 - f1_m: 0.9453\n",
      "WARNING:tensorflow:Early stopping conditioned on metric `val_auc` which is not available. Available metrics are: loss,tp,fp,tn,fn,accuracy,precision,recall,auc,get_f1,recall_m,precision_m,f1_m\n",
      "Epoch 75/100\n",
      "135246/135246 [==============================] - 2s 14us/step - loss: 0.0398 - tp: 9970641.0000 - fp: 644021.8125 - tn: 9974768.0000 - fn: 648149.6875 - accuracy: 0.9392 - precision: 0.9393 - recall: 0.9390 - auc: 0.9816 - get_f1: 0.9453 - recall_m: 0.9453 - precision_m: 0.9453 - f1_m: 0.9453\n",
      "WARNING:tensorflow:Early stopping conditioned on metric `val_auc` which is not available. Available metrics are: loss,tp,fp,tn,fn,accuracy,precision,recall,auc,get_f1,recall_m,precision_m,f1_m\n",
      "Epoch 76/100\n",
      "135246/135246 [==============================] - 2s 13us/step - loss: 0.0397 - tp: 10098495.0000 - fp: 651411.6875 - tn: 10102624.0000 - fn: 655539.6875 - accuracy: 0.9392 - precision: 0.9394 - recall: 0.9390 - auc: 0.9816 - get_f1: 0.9457 - recall_m: 0.9457 - precision_m: 0.9457 - f1_m: 0.9457\n",
      "WARNING:tensorflow:Early stopping conditioned on metric `val_auc` which is not available. Available metrics are: loss,tp,fp,tn,fn,accuracy,precision,recall,auc,get_f1,recall_m,precision_m,f1_m\n",
      "Epoch 77/100\n",
      "135246/135246 [==============================] - 2s 13us/step - loss: 0.0397 - tp: 10226466.0000 - fp: 658688.5625 - tn: 10230593.0000 - fn: 662816.5625 - accuracy: 0.9393 - precision: 0.9395 - recall: 0.9391 - auc: 0.9817 - get_f1: 0.9453 - recall_m: 0.9453 - precision_m: 0.9453 - f1_m: 0.9453\n",
      "WARNING:tensorflow:Early stopping conditioned on metric `val_auc` which is not available. Available metrics are: loss,tp,fp,tn,fn,accuracy,precision,recall,auc,get_f1,recall_m,precision_m,f1_m\n"
     ]
    },
    {
     "name": "stdout",
     "output_type": "stream",
     "text": [
      "Epoch 78/100\n",
      "135246/135246 [==============================] - 2s 12us/step - loss: 0.0399 - tp: 10354352.0000 - fp: 666047.3125 - tn: 10358481.0000 - fn: 670175.3125 - accuracy: 0.9394 - precision: 0.9396 - recall: 0.9392 - auc: 0.9817 - get_f1: 0.9457 - recall_m: 0.9457 - precision_m: 0.9457 - f1_m: 0.9457\n",
      "WARNING:tensorflow:Early stopping conditioned on metric `val_auc` which is not available. Available metrics are: loss,tp,fp,tn,fn,accuracy,precision,recall,auc,get_f1,recall_m,precision_m,f1_m\n",
      "Epoch 79/100\n",
      "135246/135246 [==============================] - 2s 12us/step - loss: 0.0396 - tp: 10482246.0000 - fp: 673402.4375 - tn: 10486370.0000 - fn: 677530.4375 - accuracy: 0.9395 - precision: 0.9396 - recall: 0.9393 - auc: 0.9818 - get_f1: 0.9465 - recall_m: 0.9465 - precision_m: 0.9465 - f1_m: 0.9465\n",
      "WARNING:tensorflow:Early stopping conditioned on metric `val_auc` which is not available. Available metrics are: loss,tp,fp,tn,fn,accuracy,precision,recall,auc,get_f1,recall_m,precision_m,f1_m\n",
      "Epoch 80/100\n",
      "135246/135246 [==============================] - 2s 12us/step - loss: 0.0396 - tp: 10610180.0000 - fp: 680710.6250 - tn: 10614311.0000 - fn: 684838.6250 - accuracy: 0.9396 - precision: 0.9397 - recall: 0.9394 - auc: 0.9819 - get_f1: 0.9453 - recall_m: 0.9453 - precision_m: 0.9453 - f1_m: 0.9453\n",
      "WARNING:tensorflow:Early stopping conditioned on metric `val_auc` which is not available. Available metrics are: loss,tp,fp,tn,fn,accuracy,precision,recall,auc,get_f1,recall_m,precision_m,f1_m\n",
      "Epoch 81/100\n",
      "135246/135246 [==============================] - 2s 12us/step - loss: 0.0398 - tp: 10738058.0000 - fp: 688080.1250 - tn: 10742187.0000 - fn: 692208.1250 - accuracy: 0.9396 - precision: 0.9398 - recall: 0.9394 - auc: 0.9819 - get_f1: 0.9456 - recall_m: 0.9456 - precision_m: 0.9456 - f1_m: 0.9456\n",
      "WARNING:tensorflow:Early stopping conditioned on metric `val_auc` which is not available. Available metrics are: loss,tp,fp,tn,fn,accuracy,precision,recall,auc,get_f1,recall_m,precision_m,f1_m\n",
      "Epoch 82/100\n",
      "135246/135246 [==============================] - 2s 12us/step - loss: 0.0396 - tp: 10866005.0000 - fp: 695377.8750 - tn: 10870134.0000 - fn: 699505.8750 - accuracy: 0.9397 - precision: 0.9399 - recall: 0.9395 - auc: 0.9820 - get_f1: 0.9463 - recall_m: 0.9463 - precision_m: 0.9463 - f1_m: 0.9463\n",
      "WARNING:tensorflow:Early stopping conditioned on metric `val_auc` which is not available. Available metrics are: loss,tp,fp,tn,fn,accuracy,precision,recall,auc,get_f1,recall_m,precision_m,f1_m\n",
      "Epoch 83/100\n",
      "135246/135246 [==============================] - 2s 12us/step - loss: 0.0396 - tp: 10993924.0000 - fp: 702707.8125 - tn: 10998049.0000 - fn: 706835.8125 - accuracy: 0.9398 - precision: 0.9399 - recall: 0.9396 - auc: 0.9820 - get_f1: 0.9452 - recall_m: 0.9452 - precision_m: 0.9452 - f1_m: 0.9452\n",
      "WARNING:tensorflow:Early stopping conditioned on metric `val_auc` which is not available. Available metrics are: loss,tp,fp,tn,fn,accuracy,precision,recall,auc,get_f1,recall_m,precision_m,f1_m\n",
      "Epoch 84/100\n",
      "135246/135246 [==============================] - 2s 12us/step - loss: 0.0396 - tp: 11121831.0000 - fp: 710044.5000 - tn: 11125961.0000 - fn: 714172.5000 - accuracy: 0.9398 - precision: 0.9400 - recall: 0.9397 - auc: 0.9821 - get_f1: 0.9462 - recall_m: 0.9462 - precision_m: 0.9462 - f1_m: 0.9462\n",
      "WARNING:tensorflow:Early stopping conditioned on metric `val_auc` which is not available. Available metrics are: loss,tp,fp,tn,fn,accuracy,precision,recall,auc,get_f1,recall_m,precision_m,f1_m\n",
      "Epoch 85/100\n",
      "135246/135246 [==============================] - 2s 12us/step - loss: 0.0396 - tp: 11249745.0000 - fp: 717378.8125 - tn: 11253871.0000 - fn: 721506.8125 - accuracy: 0.9399 - precision: 0.9401 - recall: 0.9397 - auc: 0.9821 - get_f1: 0.9462 - recall_m: 0.9462 - precision_m: 0.9462 - f1_m: 0.9462\n",
      "WARNING:tensorflow:Early stopping conditioned on metric `val_auc` which is not available. Available metrics are: loss,tp,fp,tn,fn,accuracy,precision,recall,auc,get_f1,recall_m,precision_m,f1_m\n",
      "Epoch 86/100\n",
      "135246/135246 [==============================] - 2s 13us/step - loss: 0.0395 - tp: 11377633.0000 - fp: 724735.6875 - tn: 11381762.0000 - fn: 728863.6875 - accuracy: 0.9400 - precision: 0.9401 - recall: 0.9398 - auc: 0.9822 - get_f1: 0.9459 - recall_m: 0.9459 - precision_m: 0.9459 - f1_m: 0.9459\n",
      "WARNING:tensorflow:Early stopping conditioned on metric `val_auc` which is not available. Available metrics are: loss,tp,fp,tn,fn,accuracy,precision,recall,auc,get_f1,recall_m,precision_m,f1_m\n",
      "Epoch 87/100\n",
      "135246/135246 [==============================] - 2s 12us/step - loss: 0.0394 - tp: 11505574.0000 - fp: 732039.2500 - tn: 11509704.0000 - fn: 736167.2500 - accuracy: 0.9400 - precision: 0.9402 - recall: 0.9399 - auc: 0.9822 - get_f1: 0.9459 - recall_m: 0.9459 - precision_m: 0.9459 - f1_m: 0.9459\n",
      "WARNING:tensorflow:Early stopping conditioned on metric `val_auc` which is not available. Available metrics are: loss,tp,fp,tn,fn,accuracy,precision,recall,auc,get_f1,recall_m,precision_m,f1_m\n",
      "Epoch 88/100\n",
      "135246/135246 [==============================] - 2s 14us/step - loss: 0.0395 - tp: 11633440.0000 - fp: 739420.4375 - tn: 11637569.0000 - fn: 743548.4375 - accuracy: 0.9401 - precision: 0.9402 - recall: 0.9399 - auc: 0.9823 - get_f1: 0.9460 - recall_m: 0.9460 - precision_m: 0.9460 - f1_m: 0.9460\n",
      "WARNING:tensorflow:Early stopping conditioned on metric `val_auc` which is not available. Available metrics are: loss,tp,fp,tn,fn,accuracy,precision,recall,auc,get_f1,recall_m,precision_m,f1_m\n",
      "Epoch 89/100\n",
      "135246/135246 [==============================] - 2s 15us/step - loss: 0.0395 - tp: 11761425.0000 - fp: 746681.6875 - tn: 11765553.0000 - fn: 750809.6875 - accuracy: 0.9402 - precision: 0.9403 - recall: 0.9400 - auc: 0.9823 - get_f1: 0.9454 - recall_m: 0.9454 - precision_m: 0.9454 - f1_m: 0.9454\n",
      "WARNING:tensorflow:Early stopping conditioned on metric `val_auc` which is not available. Available metrics are: loss,tp,fp,tn,fn,accuracy,precision,recall,auc,get_f1,recall_m,precision_m,f1_m\n",
      "Epoch 90/100\n",
      "135246/135246 [==============================] - 2s 14us/step - loss: 0.0394 - tp: 11889273.0000 - fp: 754079.1250 - tn: 11893403.0000 - fn: 758207.1250 - accuracy: 0.9402 - precision: 0.9404 - recall: 0.9401 - auc: 0.9824 - get_f1: 0.9459 - recall_m: 0.9459 - precision_m: 0.9459 - f1_m: 0.9459\n",
      "WARNING:tensorflow:Early stopping conditioned on metric `val_auc` which is not available. Available metrics are: loss,tp,fp,tn,fn,accuracy,precision,recall,auc,get_f1,recall_m,precision_m,f1_m\n",
      "Epoch 91/100\n",
      "135246/135246 [==============================] - 2s 13us/step - loss: 0.0394 - tp: 12017184.0000 - fp: 761416.0000 - tn: 12021309.0000 - fn: 765544.0000 - accuracy: 0.9403 - precision: 0.9404 - recall: 0.9401 - auc: 0.9824 - get_f1: 0.9456 - recall_m: 0.9456 - precision_m: 0.9456 - f1_m: 0.9456 1s - loss: 0.0384 - tp: 11963002.0000 - fp: 758281.5625 - tn: 11967130.0000 - fn: 762409.5625 - accuracy: 0.9402 - precision: 0.9404 - recall: 0.9401 - auc: 0.9824 - get_f1: 0.9463 - r\n",
      "WARNING:tensorflow:Early stopping conditioned on metric `val_auc` which is not available. Available metrics are: loss,tp,fp,tn,fn,accuracy,precision,recall,auc,get_f1,recall_m,precision_m,f1_m\n",
      "Epoch 92/100\n",
      "135246/135246 [==============================] - 2s 13us/step - loss: 0.0394 - tp: 12145089.0000 - fp: 768755.0625 - tn: 12149218.0000 - fn: 772883.0625 - accuracy: 0.9403 - precision: 0.9405 - recall: 0.9402 - auc: 0.9824 - get_f1: 0.9460 - recall_m: 0.9460 - precision_m: 0.9460 - f1_m: 0.9460\n",
      "WARNING:tensorflow:Early stopping conditioned on metric `val_auc` which is not available. Available metrics are: loss,tp,fp,tn,fn,accuracy,precision,recall,auc,get_f1,recall_m,precision_m,f1_m\n",
      "Epoch 93/100\n",
      "135246/135246 [==============================] - 2s 14us/step - loss: 0.0395 - tp: 12273010.0000 - fp: 776079.7500 - tn: 12277139.0000 - fn: 780207.7500 - accuracy: 0.9404 - precision: 0.9405 - recall: 0.9402 - auc: 0.9825 - get_f1: 0.9465 - recall_m: 0.9465 - precision_m: 0.9465 - f1_m: 0.9465\n",
      "WARNING:tensorflow:Early stopping conditioned on metric `val_auc` which is not available. Available metrics are: loss,tp,fp,tn,fn,accuracy,precision,recall,auc,get_f1,recall_m,precision_m,f1_m\n"
     ]
    },
    {
     "name": "stdout",
     "output_type": "stream",
     "text": [
      "Epoch 94/100\n",
      "135246/135246 [==============================] - 2s 13us/step - loss: 0.0395 - tp: 12400939.0000 - fp: 783398.7500 - tn: 12405067.0000 - fn: 787526.7500 - accuracy: 0.9404 - precision: 0.9406 - recall: 0.9403 - auc: 0.9825 - get_f1: 0.9461 - recall_m: 0.9461 - precision_m: 0.9461 - f1_m: 0.9461\n",
      "WARNING:tensorflow:Early stopping conditioned on metric `val_auc` which is not available. Available metrics are: loss,tp,fp,tn,fn,accuracy,precision,recall,auc,get_f1,recall_m,precision_m,f1_m\n",
      "Epoch 95/100\n",
      "135246/135246 [==============================] - 2s 13us/step - loss: 0.0394 - tp: 12528867.0000 - fp: 790713.4375 - tn: 12532999.0000 - fn: 794841.4375 - accuracy: 0.9405 - precision: 0.9406 - recall: 0.9403 - auc: 0.9826 - get_f1: 0.9460 - recall_m: 0.9460 - precision_m: 0.9460 - f1_m: 0.9460\n",
      "WARNING:tensorflow:Early stopping conditioned on metric `val_auc` which is not available. Available metrics are: loss,tp,fp,tn,fn,accuracy,precision,recall,auc,get_f1,recall_m,precision_m,f1_m\n",
      "Epoch 96/100\n",
      "135246/135246 [==============================] - 2s 14us/step - loss: 0.0394 - tp: 12656767.0000 - fp: 798061.5625 - tn: 12660895.0000 - fn: 802189.5625 - accuracy: 0.9406 - precision: 0.9407 - recall: 0.9404 - auc: 0.9826 - get_f1: 0.9465 - recall_m: 0.9465 - precision_m: 0.9465 - f1_m: 0.9465\n",
      "WARNING:tensorflow:Early stopping conditioned on metric `val_auc` which is not available. Available metrics are: loss,tp,fp,tn,fn,accuracy,precision,recall,auc,get_f1,recall_m,precision_m,f1_m\n",
      "Epoch 97/100\n",
      "135246/135246 [==============================] - 2s 15us/step - loss: 0.0395 - tp: 12784749.0000 - fp: 805325.8750 - tn: 12788875.0000 - fn: 809453.8750 - accuracy: 0.9406 - precision: 0.9407 - recall: 0.9405 - auc: 0.9827 - get_f1: 0.9460 - recall_m: 0.9460 - precision_m: 0.9460 - f1_m: 0.9460\n",
      "WARNING:tensorflow:Early stopping conditioned on metric `val_auc` which is not available. Available metrics are: loss,tp,fp,tn,fn,accuracy,precision,recall,auc,get_f1,recall_m,precision_m,f1_m\n",
      "Epoch 98/100\n",
      "135246/135246 [==============================] - 2s 15us/step - loss: 0.0394 - tp: 12912621.0000 - fp: 812697.8750 - tn: 12916747.0000 - fn: 816825.8750 - accuracy: 0.9407 - precision: 0.9408 - recall: 0.9405 - auc: 0.9827 - get_f1: 0.9459 - recall_m: 0.9459 - precision_m: 0.9459 - f1_m: 0.9459\n",
      "WARNING:tensorflow:Early stopping conditioned on metric `val_auc` which is not available. Available metrics are: loss,tp,fp,tn,fn,accuracy,precision,recall,auc,get_f1,recall_m,precision_m,f1_m\n",
      "Epoch 99/100\n",
      "135246/135246 [==============================] - 2s 14us/step - loss: 0.0393 - tp: 13040514.0000 - fp: 820053.1875 - tn: 13044641.0000 - fn: 824181.1875 - accuracy: 0.9407 - precision: 0.9408 - recall: 0.9406 - auc: 0.9827 - get_f1: 0.9465 - recall_m: 0.9465 - precision_m: 0.9465 - f1_m: 0.9465\n",
      "WARNING:tensorflow:Early stopping conditioned on metric `val_auc` which is not available. Available metrics are: loss,tp,fp,tn,fn,accuracy,precision,recall,auc,get_f1,recall_m,precision_m,f1_m\n",
      "Epoch 100/100\n",
      "135246/135246 [==============================] - 2s 13us/step - loss: 0.0392 - tp: 13168457.0000 - fp: 827355.5625 - tn: 13172586.0000 - fn: 831483.5625 - accuracy: 0.9408 - precision: 0.9409 - recall: 0.9406 - auc: 0.9828 - get_f1: 0.9461 - recall_m: 0.9461 - precision_m: 0.9461 - f1_m: 0.9461\n",
      "WARNING:tensorflow:Early stopping conditioned on metric `val_auc` which is not available. Available metrics are: loss,tp,fp,tn,fn,accuracy,precision,recall,auc,get_f1,recall_m,precision_m,f1_m\n"
     ]
    }
   ],
   "source": [
    "model = make_model()\n",
    "#model.load_weights(initial_weights)\n",
    "baseline_history = model.fit(\n",
    "    X_train_features,\n",
    "    y_train_labels,\n",
    "    batch_size=BATCH_SIZE,\n",
    "    epochs=EPOCHS,\n",
    "    callbacks = [early_stopping])"
   ]
  },
  {
   "cell_type": "code",
   "execution_count": 125,
   "metadata": {
    "scrolled": true
   },
   "outputs": [
    {
     "name": "stdout",
     "output_type": "stream",
     "text": [
      "57963/57963 [==============================] - 4s 65us/step\n"
     ]
    },
    {
     "data": {
      "text/plain": [
       "[0.04182400460939248,\n",
       " 1300015.25,\n",
       " 81452.8125,\n",
       " 1300015.25,\n",
       " 81452.8125,\n",
       " 0.9410316944122314,\n",
       " 0.9410316944122314,\n",
       " 0.9410316944122314,\n",
       " 0.9831101894378662]"
      ]
     },
     "execution_count": 125,
     "metadata": {},
     "output_type": "execute_result"
    }
   ],
   "source": [
    "model.evaluate(X_test_features, y_test_labels)"
   ]
  },
  {
   "cell_type": "markdown",
   "metadata": {},
   "source": [
    "## 히스토리 확인"
   ]
  },
  {
   "cell_type": "code",
   "execution_count": 181,
   "metadata": {},
   "outputs": [],
   "source": [
    "def plot_metrics(history):\n",
    "    metrics =  ['loss', 'auc', 'precision', 'recall']\n",
    "    for n, metric in enumerate(metrics):\n",
    "        name = metric.replace(\"_\",\" \").capitalize()\n",
    "        plt.subplot(2,2,n+1)\n",
    "        plt.plot(history.epoch,  history.history[metric], color=colors[0], label='Train')\n",
    "        plt.xlabel('Epoch')\n",
    "        plt.ylabel(name)\n",
    "        if metric == 'loss':\n",
    "            plt.ylim([0, plt.ylim()[1]])\n",
    "        elif metric == 'auc':\n",
    "            plt.ylim([0.8,1])\n",
    "        else:\n",
    "            plt.ylim([0,1])\n",
    "\n",
    "        plt.legend()\n"
   ]
  },
  {
   "cell_type": "code",
   "execution_count": 182,
   "metadata": {},
   "outputs": [
    {
     "data": {
      "image/png": "[encoded data removed]",
      "text/plain": [
       "<Figure size 864x720 with 4 Axes>"
      ]
     },
     "metadata": {
      "needs_background": "light"
     },
     "output_type": "display_data"
    }
   ],
   "source": [
    "plot_metrics(baseline_history)"
   ]
  },
  {
   "cell_type": "markdown",
   "metadata": {},
   "source": [
    "## 메트릭 평가"
   ]
  },
  {
   "cell_type": "code",
   "execution_count": 186,
   "metadata": {},
   "outputs": [],
   "source": [
    "X_train_predictions_baseline = model.predict(X_train_features, batch_size=BATCH_SIZE)\n",
    "X_test_predictions_baseline = model.predict(X_test_features, batch_size=BATCH_SIZE)"
   ]
  },
  {
   "cell_type": "code",
   "execution_count": 183,
   "metadata": {},
   "outputs": [],
   "source": [
    "def plot_cm(labels, predictions, p=0.5):\n",
    "    cm = confusion_matrix(labels, predictions > p)\n",
    "    plt.figure(figsize=(5,5))\n",
    "    sns.heatmap(cm, annot=True, fmt=\"d\")\n",
    "    plt.title('Confusion matrix @{:.2f}'.format(p))\n",
    "    plt.ylabel('Actual label')\n",
    "    plt.xlabel('Predicted label')\n",
    "\n",
    "    print('Legitimate Transactions Detected (True Negatives): ', cm[0][0])\n",
    "    print('Legitimate Transactions Incorrectly Detected (False Positives): ', cm[0][1])\n",
    "    print('Fraudulent Transactions Missed (False Negatives): ', cm[1][0])\n",
    "    print('Fraudulent Transactions Detected (True Positives): ', cm[1][1])\n",
    "    print('Total Fraudulent Transactions: ', np.sum(cm[1]))"
   ]
  },
  {
   "cell_type": "code",
   "execution_count": 200,
   "metadata": {},
   "outputs": [
    {
     "name": "stdout",
     "output_type": "stream",
     "text": [
      "loss :  0.04006158353828097\n",
      "tp :  13533636.0\n",
      "fp :  848304.6875\n",
      "tn :  13537764.0\n",
      "fn :  852432.6875\n",
      "accuracy :  0.9408894181251526\n",
      "precision :  0.9410158395767212\n",
      "recall :  0.9407460689544678\n",
      "auc :  0.9828501343727112\n",
      "get_f1 :  0.9459115266799927\n",
      "recall_m :  0.9459115862846375\n",
      "precision_m :  0.9459115862846375\n",
      "f1_m :  0.9459115266799927\n",
      "\n"
     ]
    }
   ],
   "source": [
    "baseline_results = model.evaluate(X_test_features, y_test_labels,\n",
    "                                  batch_size=BATCH_SIZE, verbose=0)\n",
    "for name, value in zip(model.metrics_names, baseline_results):\n",
    "    print(name, ': ', value)\n",
    "print()\n",
    "\n",
    "#plot_cm(y_test1_labels, X_test_predictions_baseline)"
   ]
  },
  {
   "cell_type": "code",
   "execution_count": null,
   "metadata": {},
   "outputs": [],
   "source": []
  },
  {
   "cell_type": "markdown",
   "metadata": {},
   "source": [
    "# 클래스 가중치\n",
    "## 클래스 가중치 계산"
   ]
  },
  {
   "cell_type": "code",
   "execution_count": 108,
   "metadata": {},
   "outputs": [
    {
     "name": "stdout",
     "output_type": "stream",
     "text": [
      "Weight for class 0: 0.53\n",
      "Weight for class 1: 8.13\n"
     ]
    }
   ],
   "source": [
    "# Scaling by total/2 helps keep the loss to a similar magnitude.\n",
    "# The sum of the weights of all examples stays the same.\n",
    "weight_for_0 = (1 / neg)*(total)/2.0 \n",
    "weight_for_1 = (1 / pos)*(total)/2.0\n",
    "\n",
    "class_weight = {0: weight_for_0, 1: weight_for_1}\n",
    "\n",
    "print('Weight for class 0: {:.2f}'.format(weight_for_0))\n",
    "print('Weight for class 1: {:.2f}'.format(weight_for_1))"
   ]
  },
  {
   "cell_type": "markdown",
   "metadata": {},
   "source": [
    "## 클래스 가중치로 모델 훈련"
   ]
  },
  {
   "cell_type": "code",
   "execution_count": null,
   "metadata": {},
   "outputs": [],
   "source": [
    "weighted_model = make_model()\n",
    "#weighted_model.load_weights(initial_weights)\n",
    "\n",
    "weighted_history = weighted_model.fit(\n",
    "    train_features,\n",
    "    train_labels,\n",
    "    batch_size=BATCH_SIZE,\n",
    "    epochs=EPOCHS,\n",
    "    callbacks = [early_stopping],\n",
    "    validation_data=(val_features, val_labels),\n",
    "    # The class weights go here\n",
    "    class_weight=class_weight) "
   ]
  },
  {
   "cell_type": "code",
   "execution_count": 113,
   "metadata": {},
   "outputs": [
    {
     "name": "stdout",
     "output_type": "stream",
     "text": [
      "Epoch 1/10\n",
      "135246/135246 [==============================] - 30s 222us/step - loss: 0.4214 - tp: 5062334.0000 - fp: 801470.4375 - tn: 5062412.0000 - fn: 801548.7500 - accuracy: 0.8632 - precision: 0.8633 - recall: 0.8633 - auc: 0.9447\n",
      "Epoch 2/10\n",
      "135246/135246 [==============================] - 30s 221us/step - loss: 0.4187 - tp: 5170873.5000 - fp: 828219.5000 - tn: 5170949.5000 - fn: 828301.0000 - accuracy: 0.8618 - precision: 0.8619 - recall: 0.8619 - auc: 0.9437\n",
      "Epoch 3/10\n",
      "135246/135246 [==============================] - 31s 231us/step - loss: 0.4169 - tp: 5280052.5000 - fp: 854262.5000 - tn: 5280127.5000 - fn: 854341.5625 - accuracy: 0.8606 - precision: 0.8608 - recall: 0.8607 - auc: 0.9428\n",
      "Epoch 4/10\n",
      "135246/135246 [==============================] - 29s 216us/step - loss: 0.4144 - tp: 5389309.5000 - fp: 880178.3750 - tn: 5389391.5000 - fn: 880258.4375 - accuracy: 0.8596 - precision: 0.8596 - recall: 0.8596 - auc: 0.9419\n",
      "Epoch 5/10\n",
      "135246/135246 [==============================] - 30s 219us/step - loss: 0.4143 - tp: 5498694.5000 - fp: 906107.8750 - tn: 5498772.0000 - fn: 906189.6250 - accuracy: 0.8585 - precision: 0.8586 - recall: 0.8586 - auc: 0.9413\n",
      "Epoch 6/10\n",
      "135246/135246 [==============================] - 31s 233us/step - loss: 0.4148 - tp: 5607955.5000 - fp: 932070.4375 - tn: 5608034.0000 - fn: 932151.3750 - accuracy: 0.8574 - precision: 0.8576 - recall: 0.8575 - auc: 0.9405\n",
      "Epoch 7/10\n",
      "135246/135246 [==============================] - 31s 231us/step - loss: 0.4135 - tp: 5716590.0000 - fp: 958640.5625 - tn: 5716670.0000 - fn: 958721.5000 - accuracy: 0.8563 - precision: 0.8564 - recall: 0.8564 - auc: 0.9397\n",
      "Epoch 8/10\n",
      "135246/135246 [==============================] - 30s 220us/step - loss: 0.4131 - tp: 5824956.5000 - fp: 985563.3125 - tn: 5825039.5000 - fn: 985643.6250 - accuracy: 0.8551 - precision: 0.8552 - recall: 0.8552 - auc: 0.9389\n",
      "Epoch 9/10\n",
      "135246/135246 [==============================] - 35s 256us/step - loss: 0.4113 - tp: 5933732.5000 - fp: 1012042.1875 - tn: 5933812.5000 - fn: 1012119.8750 - accuracy: 0.8541 - precision: 0.8542 - recall: 0.8542 - auc: 0.9382\n",
      "Epoch 10/10\n",
      "135246/135246 [==============================] - 31s 227us/step - loss: 0.4101 - tp: 6042532.5000 - fp: 1038464.1875 - tn: 6042613.0000 - fn: 1038546.3750 - accuracy: 0.8531 - precision: 0.8533 - recall: 0.8533 - auc: 0.9376\n"
     ]
    }
   ],
   "source": [
    "weighted_model = make_model()\n",
    "weighted_history = model.fit(X_train_features, y_train_labels, epochs = 10, batch_size=10, class_weight=class_weight)"
   ]
  },
  {
   "cell_type": "markdown",
   "metadata": {},
   "source": [
    "## 교육 이력 확인"
   ]
  },
  {
   "cell_type": "code",
   "execution_count": 218,
   "metadata": {},
   "outputs": [
    {
     "data": {
      "image/png": "[encoded data removed]",
      "text/plain": [
       "<Figure size 864x720 with 4 Axes>"
      ]
     },
     "metadata": {
      "needs_background": "light"
     },
     "output_type": "display_data"
    }
   ],
   "source": [
    "plot_metrics(weighted_history)"
   ]
  },
  {
   "cell_type": "markdown",
   "metadata": {},
   "source": [
    "## 메트릭 평가"
   ]
  },
  {
   "cell_type": "code",
   "execution_count": 115,
   "metadata": {},
   "outputs": [],
   "source": [
    "train_predictions_weighted = weighted_model.predict(train_features)\n",
    "test_predictions_weighted = weighted_model.predict(test_features)"
   ]
  },
  {
   "cell_type": "code",
   "execution_count": 118,
   "metadata": {},
   "outputs": [
    {
     "name": "stdout",
     "output_type": "stream",
     "text": [
      "loss :  0.6931736581828957\n",
      "tp :  6108443.5\n",
      "fp :  1069204.75\n",
      "tn :  6108521.0\n",
      "fn :  1069284.75\n",
      "accuracy :  0.8509334921836853\n",
      "precision :  0.8510394096374512\n",
      "recall :  0.8510300517082214\n",
      "auc :  0.9364725947380066\n",
      "\n"
     ]
    },
    {
     "ename": "NameError",
     "evalue": "name 'test_labels' is not defined",
     "output_type": "error",
     "traceback": [
      "\u001b[1;31m---------------------------------------------------------------------------\u001b[0m",
      "\u001b[1;31mNameError\u001b[0m                                 Traceback (most recent call last)",
      "\u001b[1;32m<ipython-input-118-3e477374f20f>\u001b[0m in \u001b[0;36m<module>\u001b[1;34m\u001b[0m\n\u001b[0;32m      4\u001b[0m \u001b[0mprint\u001b[0m\u001b[1;33m(\u001b[0m\u001b[1;33m)\u001b[0m\u001b[1;33m\u001b[0m\u001b[1;33m\u001b[0m\u001b[0m\n\u001b[0;32m      5\u001b[0m \u001b[1;33m\u001b[0m\u001b[0m\n\u001b[1;32m----> 6\u001b[1;33m \u001b[0mplot_cm\u001b[0m\u001b[1;33m(\u001b[0m\u001b[0mtest_labels\u001b[0m\u001b[1;33m,\u001b[0m \u001b[0mtest_predictions_weighted\u001b[0m\u001b[1;33m)\u001b[0m\u001b[1;33m\u001b[0m\u001b[1;33m\u001b[0m\u001b[0m\n\u001b[0m",
      "\u001b[1;31mNameError\u001b[0m: name 'test_labels' is not defined"
     ]
    }
   ],
   "source": [
    "weighted_results = weighted_model.evaluate(X_test_features, y_test_labels, verbose=0)\n",
    "for name, value in zip(weighted_model.metrics_names, weighted_results):\n",
    "    print(name, ': ', value)\n",
    "print()\n",
    "\n",
    "plot_cm(test_labels, test_predictions_weighted)"
   ]
  },
  {
   "cell_type": "markdown",
   "metadata": {},
   "source": [
    "## ROC플로팅"
   ]
  },
  {
   "cell_type": "code",
   "execution_count": null,
   "metadata": {},
   "outputs": [],
   "source": [
    "plot_roc(\"Train Baseline\", train_labels, train_predictions_baseline, color=colors[0])\n",
    "plot_roc(\"Test Baseline\", test_labels, test_predictions_baseline, color=colors[0], linestyle='--')\n",
    "\n",
    "plot_roc(\"Train Weighted\", train_labels, train_predictions_weighted, color=colors[1])\n",
    "plot_roc(\"Test Weighted\", test_labels, test_predictions_weighted, color=colors[1], linestyle='--')\n",
    "\n",
    "\n",
    "plt.legend(loc='lower right')"
   ]
  },
  {
   "cell_type": "code",
   "execution_count": null,
   "metadata": {},
   "outputs": [],
   "source": []
  },
  {
   "cell_type": "markdown",
   "metadata": {},
   "source": [
    "# 오버 샘플링\n",
    "## 소수 클래스를 오버 샘플링하여 데이터를 리셈플링, 기존 방법과 동일? 비슷?"
   ]
  },
  {
   "cell_type": "code",
   "execution_count": null,
   "metadata": {},
   "outputs": [],
   "source": [
    "pos_features = train_features[bool_train_labels]\n",
    "neg_features = train_features[~bool_train_labels]\n",
    "\n",
    "pos_labels = train_labels[bool_train_labels]\n",
    "neg_labels = train_labels[~bool_train_labels]"
   ]
  },
  {
   "cell_type": "code",
   "execution_count": null,
   "metadata": {},
   "outputs": [],
   "source": [
    "ids = np.arange(len(pos_features))\n",
    "choices = np.random.choice(ids, len(neg_features))\n",
    "\n",
    "res_pos_features = pos_features[choices]\n",
    "res_pos_labels = pos_labels[choices]\n",
    "\n",
    "res_pos_features.shape"
   ]
  },
  {
   "cell_type": "code",
   "execution_count": null,
   "metadata": {},
   "outputs": [],
   "source": [
    "resampled_features = np.concatenate([res_pos_features, neg_features], axis=0)\n",
    "resampled_labels = np.concatenate([res_pos_labels, neg_labels], axis=0)\n",
    "\n",
    "order = np.arange(len(resampled_labels))\n",
    "np.random.shuffle(order)\n",
    "resampled_features = resampled_features[order]\n",
    "resampled_labels = resampled_labels[order]\n",
    "\n",
    "resampled_features.shape"
   ]
  },
  {
   "cell_type": "code",
   "execution_count": null,
   "metadata": {},
   "outputs": [],
   "source": [
    "BUFFER_SIZE = 100000\n",
    "\n",
    "def make_ds(features, labels):\n",
    "  ds = tf.data.Dataset.from_tensor_slices((features, labels))#.cache()\n",
    "  ds = ds.shuffle(BUFFER_SIZE).repeat()\n",
    "  return ds\n",
    "\n",
    "pos_ds = make_ds(pos_features, pos_labels)\n",
    "neg_ds = make_ds(neg_features, neg_labels)"
   ]
  },
  {
   "cell_type": "code",
   "execution_count": null,
   "metadata": {},
   "outputs": [],
   "source": [
    "for features, label in pos_ds.take(1):\n",
    "  print(\"Features:\\n\", features.numpy())\n",
    "  print()\n",
    "  print(\"Label: \", label.numpy())"
   ]
  },
  {
   "cell_type": "code",
   "execution_count": null,
   "metadata": {},
   "outputs": [],
   "source": [
    "resampled_ds = tf.data.experimental.sample_from_datasets([pos_ds, neg_ds], weights=[0.5, 0.5])\n",
    "resampled_ds = resampled_ds.batch(BATCH_SIZE).prefetch(2)"
   ]
  },
  {
   "cell_type": "code",
   "execution_count": null,
   "metadata": {},
   "outputs": [],
   "source": [
    "for features, label in resampled_ds.take(1):\n",
    "  print(label.numpy().mean())"
   ]
  },
  {
   "cell_type": "code",
   "execution_count": null,
   "metadata": {},
   "outputs": [],
   "source": [
    "resampled_steps_per_epoch = np.ceil(2.0*neg/BATCH_SIZE)\n",
    "resampled_steps_per_epoch"
   ]
  },
  {
   "cell_type": "code",
   "execution_count": null,
   "metadata": {},
   "outputs": [],
   "source": [
    "resampled_model = make_model()\n",
    "resampled_model.load_weights(initial_weights)\n",
    "\n",
    "# Reset the bias to zero, since this dataset is balanced.\n",
    "output_layer = resampled_model.layers[-1] \n",
    "output_layer.bias.assign([0])\n",
    "\n",
    "val_ds = tf.data.Dataset.from_tensor_slices((val_features, val_labels)).cache()\n",
    "val_ds = val_ds.batch(BATCH_SIZE).prefetch(2) \n",
    "\n",
    "resampled_history = resampled_model.fit(\n",
    "    resampled_ds,\n",
    "    epochs=EPOCHS,\n",
    "    steps_per_epoch=resampled_steps_per_epoch,\n",
    "    callbacks = [early_stopping],\n",
    "    validation_data=val_ds)"
   ]
  },
  {
   "cell_type": "markdown",
   "metadata": {},
   "source": [
    "## 교육 이력 확인"
   ]
  },
  {
   "cell_type": "code",
   "execution_count": null,
   "metadata": {},
   "outputs": [],
   "source": [
    "plot_metrics(resampled_history )"
   ]
  },
  {
   "cell_type": "markdown",
   "metadata": {},
   "source": [
    "## 재교육"
   ]
  },
  {
   "cell_type": "code",
   "execution_count": null,
   "metadata": {},
   "outputs": [],
   "source": [
    "resampled_model = make_model()\n",
    "resampled_model.load_weights(initial_weights)\n",
    "\n",
    "# Reset the bias to zero, since this dataset is balanced.\n",
    "output_layer = resampled_model.layers[-1] \n",
    "output_layer.bias.assign([0])\n",
    "\n",
    "resampled_history = resampled_model.fit(\n",
    "    resampled_ds,\n",
    "    # These are not real epochs\n",
    "    steps_per_epoch = 20,\n",
    "    epochs=10*EPOCHS,\n",
    "    callbacks = [early_stopping],\n",
    "    validation_data=(val_ds))"
   ]
  },
  {
   "cell_type": "markdown",
   "metadata": {},
   "source": [
    "## 훈련 이력 재확인"
   ]
  },
  {
   "cell_type": "code",
   "execution_count": null,
   "metadata": {},
   "outputs": [],
   "source": [
    "plot_metrics(resampled_history)"
   ]
  },
  {
   "cell_type": "markdown",
   "metadata": {},
   "source": [
    "## 메트릭 평가"
   ]
  },
  {
   "cell_type": "code",
   "execution_count": null,
   "metadata": {},
   "outputs": [],
   "source": [
    "train_predictions_resampled = resampled_model.predict(train_features, batch_size=BATCH_SIZE)\n",
    "test_predictions_resampled = resampled_model.predict(test_features, batch_size=BATCH_SIZE)"
   ]
  },
  {
   "cell_type": "code",
   "execution_count": null,
   "metadata": {},
   "outputs": [],
   "source": [
    "resampled_results = resampled_model.evaluate(test_features, test_labels,\n",
    "                                             batch_size=BATCH_SIZE, verbose=0)\n",
    "for name, value in zip(resampled_model.metrics_names, resampled_results):\n",
    "  print(name, ': ', value)\n",
    "print()\n",
    "\n",
    "plot_cm(test_labels, test_predictions_resampled)"
   ]
  },
  {
   "cell_type": "markdown",
   "metadata": {},
   "source": [
    "## ROC 플로팅"
   ]
  },
  {
   "cell_type": "code",
   "execution_count": null,
   "metadata": {},
   "outputs": [],
   "source": [
    "plot_roc(\"Train Baseline\", train_labels, train_predictions_baseline, color=colors[0])\n",
    "plot_roc(\"Test Baseline\", test_labels, test_predictions_baseline, color=colors[0], linestyle='--')\n",
    "\n",
    "plot_roc(\"Train Weighted\", train_labels, train_predictions_weighted, color=colors[1])\n",
    "plot_roc(\"Test Weighted\", test_labels, test_predictions_weighted, color=colors[1], linestyle='--')\n",
    "\n",
    "plot_roc(\"Train Resampled\", train_labels, train_predictions_resampled,  color=colors[2])\n",
    "plot_roc(\"Test Resampled\", test_labels, test_predictions_resampled,  color=colors[2], linestyle='--')\n",
    "plt.legend(loc='lower right')"
   ]
  },
  {
   "cell_type": "code",
   "execution_count": null,
   "metadata": {},
   "outputs": [],
   "source": []
  }
 ],
 "metadata": {
  "kernelspec": {
   "display_name": "Python 3 (ipykernel)",
   "language": "python",
   "name": "python3"
  },
  "language_info": {
   "codemirror_mode": {
    "name": "ipython",
    "version": 3
   },
   "file_extension": ".py",
   "mimetype": "text/x-python",
   "name": "python",
   "nbconvert_exporter": "python",
   "pygments_lexer": "ipython3",
   "version": "3.7.0"
  },
  "toc": {
   "base_numbering": 1,
   "nav_menu": {},
   "number_sections": true,
   "sideBar": true,
   "skip_h1_title": false,
   "title_cell": "Table of Contents",
   "title_sidebar": "Contents",
   "toc_cell": false,
   "toc_position": {},
   "toc_section_display": true,
   "toc_window_display": false
  }
 },
 "nbformat": 4,
 "nbformat_minor": 4
}
